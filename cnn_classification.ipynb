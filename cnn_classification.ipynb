{
 "cells": [
  {
   "cell_type": "markdown",
   "metadata": {},
   "source": [
    "# MNIST handwritten digit classification with CNNs\n",
    "\n",
    "In this notebook, we'll train a convolutional neural network (CNN, ConvNet) to classify MNIST digits using **PyTorch**. \n",
    "\n",
    "First, the needed imports. "
   ]
  },
  {
   "cell_type": "code",
   "execution_count": 49,
   "metadata": {},
   "outputs": [],
   "source": [
    "%matplotlib inline\n",
    "\n",
    "import torch\n",
    "import torch.nn as nn\n",
    "from torch.utils.data import DataLoader, Dataset\n",
    "from torchvision import datasets\n",
    "from torchvision import transforms\n",
    "from torchvision.transforms import ToTensor\n",
    "\n",
    "import pandas as pd\n",
    "import numpy as np\n",
    "import matplotlib.pyplot as plt\n",
    "from tqdm import tqdm\n",
    "import os\n",
    "\n",
    "from PIL import Image, ImageOps"
   ]
  },
  {
   "cell_type": "code",
   "execution_count": 6,
   "metadata": {},
   "outputs": [
    {
     "name": "stdout",
     "output_type": "stream",
     "text": [
      "Using PyTorch version: 2.5.1+cu118\n",
      "Using GPU, device name: NVIDIA RTX 500 Ada Generation Laptop GPU\n"
     ]
    }
   ],
   "source": [
    "print('Using PyTorch version:', torch.__version__)\n",
    "if torch.cuda.is_available():\n",
    "    print('Using GPU, device name:', torch.cuda.get_device_name(0))\n",
    "    device = torch.device('cuda')\n",
    "else:\n",
    "    print('No GPU found, using CPU instead.') \n",
    "    device = torch.device('cpu')"
   ]
  },
  {
   "cell_type": "code",
   "execution_count": 23,
   "metadata": {},
   "outputs": [
    {
     "data": {
      "text/plain": [
       "'D:\\\\playground\\\\field_island_presence'"
      ]
     },
     "execution_count": 23,
     "metadata": {},
     "output_type": "execute_result"
    }
   ],
   "source": [
    "#root_dir = os.path.join(os.getcwd(), 'data')\n",
    "root_dir = os.getcwd()\n",
    "root_dir"
   ]
  },
  {
   "cell_type": "markdown",
   "metadata": {},
   "source": [
    "#### Create custom dataset"
   ]
  },
  {
   "cell_type": "markdown",
   "metadata": {},
   "source": [
    "class mydataset(Dataset):\n",
    "    def __init__(self, csv_file, root_dir, transform=None):\n",
    "        self.annotations = pd.read_csv(csv_file)\n",
    "        self.root_dir = root_dir\n",
    "        self.transform = transform\n",
    "\n",
    "    def __len__(self):\n",
    "        return len(self.annotations)\n",
    "\n",
    "    def __getitem__(self, idx):\n",
    "        img_name = os.path.join(self.root_dir, self.annotations.iloc[idx, 1])\n",
    "        image = Image.open(img_name)\n",
    "        label = 1 if self.annotations.iloc[idx, 1] == 'present' else 0\n",
    "\n",
    "        if self.transform:\n",
    "            image = self.transform(image)\n",
    "\n",
    "        return image, label\n",
    "\n",
    "    def get_image_dimensions(self):\n",
    "        dimensions = []\n",
    "        for idx in range(len(self.annotations)):\n",
    "            img_name = os.path.join(self.root_dir, self.annotations.iloc[idx, 1])\n",
    "            image = Image.open(img_name)\n",
    "            dimensions.append((img_name, image.size))\n",
    "        return dimensions"
   ]
  },
  {
   "cell_type": "code",
   "execution_count": 54,
   "metadata": {},
   "outputs": [],
   "source": [
    "class mydataset(Dataset):\n",
    "    def __init__(self, csv_file, root_dir, transform=None):\n",
    "        self.annotations = pd.read_csv(csv_file)\n",
    "        self.root_dir = root_dir\n",
    "        self.transform = transform\n",
    "\n",
    "    def __len__(self):\n",
    "        return len(self.annotations)\n",
    "\n",
    "    def __getitem__(self, idx):\n",
    "        img_name = os.path.join(self.root_dir, self.annotations.iloc[idx, 1])\n",
    "        image = Image.open(img_name)\n",
    "        label = 1 if self.annotations.iloc[idx, 1] == 'present' else 0\n",
    "\n",
    "        # Add zero padding to make the image size (3, 640, 640)\n",
    "        image = self.pad_image(image)\n",
    "\n",
    "        if self.transform:\n",
    "            image = self.transform(image)\n",
    "\n",
    "        return image, label\n",
    "\n",
    "    def pad_image(self, image):\n",
    "        # Ensure the image has 3 channels\n",
    "        if image.mode != 'RGB':\n",
    "            image = image.convert('RGB')\n",
    "        \n",
    "        # Calculate padding\n",
    "        width, height = image.size\n",
    "        left_padding = (640 - width) // 2\n",
    "        top_padding = (640 - height) // 2\n",
    "        right_padding = 640 - width - left_padding\n",
    "        bottom_padding = 640 - height - top_padding\n",
    "        \n",
    "        # Add padding to the image\n",
    "        padding = (left_padding, top_padding, right_padding, bottom_padding)\n",
    "        padded_image = ImageOps.expand(image, padding)\n",
    "        \n",
    "        return padded_image\n",
    "\n",
    "    def get_padded_image_dimensions(self):\n",
    "        dimensions = []\n",
    "        for idx in range(len(self.annotations)):\n",
    "            img_name = os.path.join(self.root_dir, self.annotations.iloc[idx, 1])\n",
    "            image = Image.open(img_name)\n",
    "            padded_image = self.pad_image(image)\n",
    "            dimensions.append((img_name, (3, 640, 640)))\n",
    "        return dimensions"
   ]
  },
  {
   "cell_type": "code",
   "execution_count": 55,
   "metadata": {},
   "outputs": [],
   "source": [
    "# Example usage\n",
    "transform = transforms.Compose([\n",
    "    transforms.ToTensor(),\n",
    "    transforms.Normalize((0.5,), (0.5,))\n",
    "])\n",
    "\n",
    "train_dataset = mydataset(csv_file='train.csv', root_dir='', transform=transform)\n",
    "test_dataset = mydataset(csv_file='test.csv', root_dir='', transform=transform)"
   ]
  },
  {
   "cell_type": "code",
   "execution_count": 56,
   "metadata": {
    "collapsed": true,
    "jupyter": {
     "outputs_hidden": true
    }
   },
   "outputs": [
    {
     "name": "stdout",
     "output_type": "stream",
     "text": [
      "Image: .\\data\\test\\absent\\rgba_1002.tif, Dimensions: (3, 640, 640)\n",
      "Image: .\\data\\test\\absent\\rgba_1003.tif, Dimensions: (3, 640, 640)\n",
      "Image: .\\data\\test\\absent\\rgba_1013.tif, Dimensions: (3, 640, 640)\n",
      "Image: .\\data\\test\\absent\\rgba_1018.tif, Dimensions: (3, 640, 640)\n",
      "Image: .\\data\\test\\absent\\rgba_103.tif, Dimensions: (3, 640, 640)\n",
      "Image: .\\data\\test\\absent\\rgba_108.tif, Dimensions: (3, 640, 640)\n",
      "Image: .\\data\\test\\absent\\rgba_113.tif, Dimensions: (3, 640, 640)\n",
      "Image: .\\data\\test\\absent\\rgba_120.tif, Dimensions: (3, 640, 640)\n",
      "Image: .\\data\\test\\absent\\rgba_122.tif, Dimensions: (3, 640, 640)\n",
      "Image: .\\data\\test\\absent\\rgba_125.tif, Dimensions: (3, 640, 640)\n",
      "Image: .\\data\\test\\absent\\rgba_128.tif, Dimensions: (3, 640, 640)\n",
      "Image: .\\data\\test\\absent\\rgba_136.tif, Dimensions: (3, 640, 640)\n",
      "Image: .\\data\\test\\absent\\rgba_141.tif, Dimensions: (3, 640, 640)\n",
      "Image: .\\data\\test\\absent\\rgba_142.tif, Dimensions: (3, 640, 640)\n",
      "Image: .\\data\\test\\absent\\rgba_146.tif, Dimensions: (3, 640, 640)\n",
      "Image: .\\data\\test\\absent\\rgba_149.tif, Dimensions: (3, 640, 640)\n",
      "Image: .\\data\\test\\absent\\rgba_15.tif, Dimensions: (3, 640, 640)\n",
      "Image: .\\data\\test\\absent\\rgba_156.tif, Dimensions: (3, 640, 640)\n",
      "Image: .\\data\\test\\absent\\rgba_172.tif, Dimensions: (3, 640, 640)\n",
      "Image: .\\data\\test\\absent\\rgba_174.tif, Dimensions: (3, 640, 640)\n",
      "Image: .\\data\\test\\absent\\rgba_179.tif, Dimensions: (3, 640, 640)\n",
      "Image: .\\data\\test\\absent\\rgba_197.tif, Dimensions: (3, 640, 640)\n",
      "Image: .\\data\\test\\absent\\rgba_198.tif, Dimensions: (3, 640, 640)\n",
      "Image: .\\data\\test\\absent\\rgba_2.tif, Dimensions: (3, 640, 640)\n",
      "Image: .\\data\\test\\absent\\rgba_20.tif, Dimensions: (3, 640, 640)\n",
      "Image: .\\data\\test\\absent\\rgba_201.tif, Dimensions: (3, 640, 640)\n",
      "Image: .\\data\\test\\absent\\rgba_209.tif, Dimensions: (3, 640, 640)\n",
      "Image: .\\data\\test\\absent\\rgba_212.tif, Dimensions: (3, 640, 640)\n",
      "Image: .\\data\\test\\absent\\rgba_216.tif, Dimensions: (3, 640, 640)\n",
      "Image: .\\data\\test\\absent\\rgba_217.tif, Dimensions: (3, 640, 640)\n",
      "Image: .\\data\\test\\absent\\rgba_218.tif, Dimensions: (3, 640, 640)\n",
      "Image: .\\data\\test\\absent\\rgba_22.tif, Dimensions: (3, 640, 640)\n",
      "Image: .\\data\\test\\absent\\rgba_224.tif, Dimensions: (3, 640, 640)\n",
      "Image: .\\data\\test\\absent\\rgba_227.tif, Dimensions: (3, 640, 640)\n",
      "Image: .\\data\\test\\absent\\rgba_230.tif, Dimensions: (3, 640, 640)\n",
      "Image: .\\data\\test\\absent\\rgba_232.tif, Dimensions: (3, 640, 640)\n",
      "Image: .\\data\\test\\absent\\rgba_239.tif, Dimensions: (3, 640, 640)\n",
      "Image: .\\data\\test\\absent\\rgba_245.tif, Dimensions: (3, 640, 640)\n",
      "Image: .\\data\\test\\absent\\rgba_255.tif, Dimensions: (3, 640, 640)\n",
      "Image: .\\data\\test\\absent\\rgba_258.tif, Dimensions: (3, 640, 640)\n",
      "Image: .\\data\\test\\absent\\rgba_265.tif, Dimensions: (3, 640, 640)\n",
      "Image: .\\data\\test\\absent\\rgba_282.tif, Dimensions: (3, 640, 640)\n",
      "Image: .\\data\\test\\absent\\rgba_286.tif, Dimensions: (3, 640, 640)\n",
      "Image: .\\data\\test\\absent\\rgba_290.tif, Dimensions: (3, 640, 640)\n",
      "Image: .\\data\\test\\absent\\rgba_297.tif, Dimensions: (3, 640, 640)\n",
      "Image: .\\data\\test\\absent\\rgba_301.tif, Dimensions: (3, 640, 640)\n",
      "Image: .\\data\\test\\absent\\rgba_305.tif, Dimensions: (3, 640, 640)\n",
      "Image: .\\data\\test\\absent\\rgba_310.tif, Dimensions: (3, 640, 640)\n",
      "Image: .\\data\\test\\absent\\rgba_312.tif, Dimensions: (3, 640, 640)\n",
      "Image: .\\data\\test\\absent\\rgba_313.tif, Dimensions: (3, 640, 640)\n",
      "Image: .\\data\\test\\absent\\rgba_315.tif, Dimensions: (3, 640, 640)\n",
      "Image: .\\data\\test\\absent\\rgba_316.tif, Dimensions: (3, 640, 640)\n",
      "Image: .\\data\\test\\absent\\rgba_318.tif, Dimensions: (3, 640, 640)\n",
      "Image: .\\data\\test\\absent\\rgba_322.tif, Dimensions: (3, 640, 640)\n",
      "Image: .\\data\\test\\absent\\rgba_323.tif, Dimensions: (3, 640, 640)\n",
      "Image: .\\data\\test\\absent\\rgba_324.tif, Dimensions: (3, 640, 640)\n",
      "Image: .\\data\\test\\absent\\rgba_325.tif, Dimensions: (3, 640, 640)\n",
      "Image: .\\data\\test\\absent\\rgba_329.tif, Dimensions: (3, 640, 640)\n",
      "Image: .\\data\\test\\absent\\rgba_330.tif, Dimensions: (3, 640, 640)\n",
      "Image: .\\data\\test\\absent\\rgba_333.tif, Dimensions: (3, 640, 640)\n",
      "Image: .\\data\\test\\absent\\rgba_335.tif, Dimensions: (3, 640, 640)\n",
      "Image: .\\data\\test\\absent\\rgba_337.tif, Dimensions: (3, 640, 640)\n",
      "Image: .\\data\\test\\absent\\rgba_34.tif, Dimensions: (3, 640, 640)\n",
      "Image: .\\data\\test\\absent\\rgba_350.tif, Dimensions: (3, 640, 640)\n",
      "Image: .\\data\\test\\absent\\rgba_353.tif, Dimensions: (3, 640, 640)\n",
      "Image: .\\data\\test\\absent\\rgba_354.tif, Dimensions: (3, 640, 640)\n",
      "Image: .\\data\\test\\absent\\rgba_365.tif, Dimensions: (3, 640, 640)\n",
      "Image: .\\data\\test\\absent\\rgba_369.tif, Dimensions: (3, 640, 640)\n",
      "Image: .\\data\\test\\absent\\rgba_372.tif, Dimensions: (3, 640, 640)\n",
      "Image: .\\data\\test\\absent\\rgba_373.tif, Dimensions: (3, 640, 640)\n",
      "Image: .\\data\\test\\absent\\rgba_375.tif, Dimensions: (3, 640, 640)\n",
      "Image: .\\data\\test\\absent\\rgba_376.tif, Dimensions: (3, 640, 640)\n",
      "Image: .\\data\\test\\absent\\rgba_382.tif, Dimensions: (3, 640, 640)\n",
      "Image: .\\data\\test\\absent\\rgba_392.tif, Dimensions: (3, 640, 640)\n",
      "Image: .\\data\\test\\absent\\rgba_403.tif, Dimensions: (3, 640, 640)\n",
      "Image: .\\data\\test\\absent\\rgba_413.tif, Dimensions: (3, 640, 640)\n",
      "Image: .\\data\\test\\absent\\rgba_433.tif, Dimensions: (3, 640, 640)\n",
      "Image: .\\data\\test\\absent\\rgba_443.tif, Dimensions: (3, 640, 640)\n",
      "Image: .\\data\\test\\absent\\rgba_444.tif, Dimensions: (3, 640, 640)\n",
      "Image: .\\data\\test\\absent\\rgba_445.tif, Dimensions: (3, 640, 640)\n",
      "Image: .\\data\\test\\absent\\rgba_446.tif, Dimensions: (3, 640, 640)\n",
      "Image: .\\data\\test\\absent\\rgba_447.tif, Dimensions: (3, 640, 640)\n",
      "Image: .\\data\\test\\absent\\rgba_453.tif, Dimensions: (3, 640, 640)\n",
      "Image: .\\data\\test\\absent\\rgba_457.tif, Dimensions: (3, 640, 640)\n",
      "Image: .\\data\\test\\absent\\rgba_458.tif, Dimensions: (3, 640, 640)\n",
      "Image: .\\data\\test\\absent\\rgba_460.tif, Dimensions: (3, 640, 640)\n",
      "Image: .\\data\\test\\absent\\rgba_463.tif, Dimensions: (3, 640, 640)\n",
      "Image: .\\data\\test\\absent\\rgba_464.tif, Dimensions: (3, 640, 640)\n",
      "Image: .\\data\\test\\absent\\rgba_47.tif, Dimensions: (3, 640, 640)\n",
      "Image: .\\data\\test\\absent\\rgba_483.tif, Dimensions: (3, 640, 640)\n",
      "Image: .\\data\\test\\absent\\rgba_484.tif, Dimensions: (3, 640, 640)\n",
      "Image: .\\data\\test\\absent\\rgba_487.tif, Dimensions: (3, 640, 640)\n",
      "Image: .\\data\\test\\absent\\rgba_490.tif, Dimensions: (3, 640, 640)\n",
      "Image: .\\data\\test\\absent\\rgba_496.tif, Dimensions: (3, 640, 640)\n",
      "Image: .\\data\\test\\absent\\rgba_499.tif, Dimensions: (3, 640, 640)\n",
      "Image: .\\data\\test\\absent\\rgba_500.tif, Dimensions: (3, 640, 640)\n",
      "Image: .\\data\\test\\absent\\rgba_503.tif, Dimensions: (3, 640, 640)\n",
      "Image: .\\data\\test\\absent\\rgba_513.tif, Dimensions: (3, 640, 640)\n",
      "Image: .\\data\\test\\absent\\rgba_514.tif, Dimensions: (3, 640, 640)\n",
      "Image: .\\data\\test\\absent\\rgba_52.tif, Dimensions: (3, 640, 640)\n",
      "Image: .\\data\\test\\absent\\rgba_534.tif, Dimensions: (3, 640, 640)\n",
      "Image: .\\data\\test\\absent\\rgba_535.tif, Dimensions: (3, 640, 640)\n",
      "Image: .\\data\\test\\absent\\rgba_537.tif, Dimensions: (3, 640, 640)\n",
      "Image: .\\data\\test\\absent\\rgba_548.tif, Dimensions: (3, 640, 640)\n",
      "Image: .\\data\\test\\absent\\rgba_554.tif, Dimensions: (3, 640, 640)\n",
      "Image: .\\data\\test\\absent\\rgba_560.tif, Dimensions: (3, 640, 640)\n",
      "Image: .\\data\\test\\absent\\rgba_565.tif, Dimensions: (3, 640, 640)\n",
      "Image: .\\data\\test\\absent\\rgba_568.tif, Dimensions: (3, 640, 640)\n",
      "Image: .\\data\\test\\absent\\rgba_571.tif, Dimensions: (3, 640, 640)\n",
      "Image: .\\data\\test\\absent\\rgba_579.tif, Dimensions: (3, 640, 640)\n",
      "Image: .\\data\\test\\absent\\rgba_59.tif, Dimensions: (3, 640, 640)\n",
      "Image: .\\data\\test\\absent\\rgba_590.tif, Dimensions: (3, 640, 640)\n",
      "Image: .\\data\\test\\absent\\rgba_596.tif, Dimensions: (3, 640, 640)\n",
      "Image: .\\data\\test\\absent\\rgba_604.tif, Dimensions: (3, 640, 640)\n",
      "Image: .\\data\\test\\absent\\rgba_608.tif, Dimensions: (3, 640, 640)\n",
      "Image: .\\data\\test\\absent\\rgba_61.tif, Dimensions: (3, 640, 640)\n",
      "Image: .\\data\\test\\absent\\rgba_615.tif, Dimensions: (3, 640, 640)\n",
      "Image: .\\data\\test\\absent\\rgba_618.tif, Dimensions: (3, 640, 640)\n",
      "Image: .\\data\\test\\absent\\rgba_623.tif, Dimensions: (3, 640, 640)\n",
      "Image: .\\data\\test\\absent\\rgba_626.tif, Dimensions: (3, 640, 640)\n",
      "Image: .\\data\\test\\absent\\rgba_63.tif, Dimensions: (3, 640, 640)\n",
      "Image: .\\data\\test\\absent\\rgba_631.tif, Dimensions: (3, 640, 640)\n",
      "Image: .\\data\\test\\absent\\rgba_639.tif, Dimensions: (3, 640, 640)\n",
      "Image: .\\data\\test\\absent\\rgba_640.tif, Dimensions: (3, 640, 640)\n",
      "Image: .\\data\\test\\absent\\rgba_642.tif, Dimensions: (3, 640, 640)\n",
      "Image: .\\data\\test\\absent\\rgba_65.tif, Dimensions: (3, 640, 640)\n",
      "Image: .\\data\\test\\absent\\rgba_652.tif, Dimensions: (3, 640, 640)\n",
      "Image: .\\data\\test\\absent\\rgba_657.tif, Dimensions: (3, 640, 640)\n",
      "Image: .\\data\\test\\absent\\rgba_658.tif, Dimensions: (3, 640, 640)\n",
      "Image: .\\data\\test\\absent\\rgba_662.tif, Dimensions: (3, 640, 640)\n",
      "Image: .\\data\\test\\absent\\rgba_665.tif, Dimensions: (3, 640, 640)\n",
      "Image: .\\data\\test\\absent\\rgba_672.tif, Dimensions: (3, 640, 640)\n",
      "Image: .\\data\\test\\absent\\rgba_675.tif, Dimensions: (3, 640, 640)\n",
      "Image: .\\data\\test\\absent\\rgba_678.tif, Dimensions: (3, 640, 640)\n",
      "Image: .\\data\\test\\absent\\rgba_684.tif, Dimensions: (3, 640, 640)\n",
      "Image: .\\data\\test\\absent\\rgba_689.tif, Dimensions: (3, 640, 640)\n",
      "Image: .\\data\\test\\absent\\rgba_698.tif, Dimensions: (3, 640, 640)\n",
      "Image: .\\data\\test\\absent\\rgba_7.tif, Dimensions: (3, 640, 640)\n",
      "Image: .\\data\\test\\absent\\rgba_705.tif, Dimensions: (3, 640, 640)\n",
      "Image: .\\data\\test\\absent\\rgba_707.tif, Dimensions: (3, 640, 640)\n",
      "Image: .\\data\\test\\absent\\rgba_71.tif, Dimensions: (3, 640, 640)\n",
      "Image: .\\data\\test\\absent\\rgba_710.tif, Dimensions: (3, 640, 640)\n",
      "Image: .\\data\\test\\absent\\rgba_715.tif, Dimensions: (3, 640, 640)\n",
      "Image: .\\data\\test\\absent\\rgba_726.tif, Dimensions: (3, 640, 640)\n",
      "Image: .\\data\\test\\absent\\rgba_727.tif, Dimensions: (3, 640, 640)\n",
      "Image: .\\data\\test\\absent\\rgba_735.tif, Dimensions: (3, 640, 640)\n",
      "Image: .\\data\\test\\absent\\rgba_744.tif, Dimensions: (3, 640, 640)\n",
      "Image: .\\data\\test\\absent\\rgba_754.tif, Dimensions: (3, 640, 640)\n",
      "Image: .\\data\\test\\absent\\rgba_766.tif, Dimensions: (3, 640, 640)\n",
      "Image: .\\data\\test\\absent\\rgba_773.tif, Dimensions: (3, 640, 640)\n",
      "Image: .\\data\\test\\absent\\rgba_778.tif, Dimensions: (3, 640, 640)\n",
      "Image: .\\data\\test\\absent\\rgba_783.tif, Dimensions: (3, 640, 640)\n",
      "Image: .\\data\\test\\absent\\rgba_79.tif, Dimensions: (3, 640, 640)\n",
      "Image: .\\data\\test\\absent\\rgba_793.tif, Dimensions: (3, 640, 640)\n",
      "Image: .\\data\\test\\absent\\rgba_800.tif, Dimensions: (3, 640, 640)\n",
      "Image: .\\data\\test\\absent\\rgba_806.tif, Dimensions: (3, 640, 640)\n",
      "Image: .\\data\\test\\absent\\rgba_807.tif, Dimensions: (3, 640, 640)\n",
      "Image: .\\data\\test\\absent\\rgba_813.tif, Dimensions: (3, 640, 640)\n",
      "Image: .\\data\\test\\absent\\rgba_814.tif, Dimensions: (3, 640, 640)\n",
      "Image: .\\data\\test\\absent\\rgba_816.tif, Dimensions: (3, 640, 640)\n",
      "Image: .\\data\\test\\absent\\rgba_817.tif, Dimensions: (3, 640, 640)\n",
      "Image: .\\data\\test\\absent\\rgba_82.tif, Dimensions: (3, 640, 640)\n",
      "Image: .\\data\\test\\absent\\rgba_820.tif, Dimensions: (3, 640, 640)\n",
      "Image: .\\data\\test\\absent\\rgba_826.tif, Dimensions: (3, 640, 640)\n",
      "Image: .\\data\\test\\absent\\rgba_83.tif, Dimensions: (3, 640, 640)\n",
      "Image: .\\data\\test\\absent\\rgba_832.tif, Dimensions: (3, 640, 640)\n",
      "Image: .\\data\\test\\absent\\rgba_839.tif, Dimensions: (3, 640, 640)\n",
      "Image: .\\data\\test\\absent\\rgba_841.tif, Dimensions: (3, 640, 640)\n",
      "Image: .\\data\\test\\absent\\rgba_844.tif, Dimensions: (3, 640, 640)\n",
      "Image: .\\data\\test\\absent\\rgba_847.tif, Dimensions: (3, 640, 640)\n",
      "Image: .\\data\\test\\absent\\rgba_859.tif, Dimensions: (3, 640, 640)\n",
      "Image: .\\data\\test\\absent\\rgba_860.tif, Dimensions: (3, 640, 640)\n",
      "Image: .\\data\\test\\absent\\rgba_861.tif, Dimensions: (3, 640, 640)\n",
      "Image: .\\data\\test\\absent\\rgba_868.tif, Dimensions: (3, 640, 640)\n",
      "Image: .\\data\\test\\absent\\rgba_874.tif, Dimensions: (3, 640, 640)\n",
      "Image: .\\data\\test\\absent\\rgba_878.tif, Dimensions: (3, 640, 640)\n",
      "Image: .\\data\\test\\absent\\rgba_885.tif, Dimensions: (3, 640, 640)\n",
      "Image: .\\data\\test\\absent\\rgba_889.tif, Dimensions: (3, 640, 640)\n",
      "Image: .\\data\\test\\absent\\rgba_890.tif, Dimensions: (3, 640, 640)\n",
      "Image: .\\data\\test\\absent\\rgba_9.tif, Dimensions: (3, 640, 640)\n",
      "Image: .\\data\\test\\absent\\rgba_90.tif, Dimensions: (3, 640, 640)\n",
      "Image: .\\data\\test\\absent\\rgba_903.tif, Dimensions: (3, 640, 640)\n",
      "Image: .\\data\\test\\absent\\rgba_906.tif, Dimensions: (3, 640, 640)\n",
      "Image: .\\data\\test\\absent\\rgba_909.tif, Dimensions: (3, 640, 640)\n",
      "Image: .\\data\\test\\absent\\rgba_915.tif, Dimensions: (3, 640, 640)\n",
      "Image: .\\data\\test\\absent\\rgba_917.tif, Dimensions: (3, 640, 640)\n",
      "Image: .\\data\\test\\absent\\rgba_919.tif, Dimensions: (3, 640, 640)\n",
      "Image: .\\data\\test\\absent\\rgba_920.tif, Dimensions: (3, 640, 640)\n",
      "Image: .\\data\\test\\absent\\rgba_926.tif, Dimensions: (3, 640, 640)\n",
      "Image: .\\data\\test\\absent\\rgba_929.tif, Dimensions: (3, 640, 640)\n",
      "Image: .\\data\\test\\absent\\rgba_93.tif, Dimensions: (3, 640, 640)\n",
      "Image: .\\data\\test\\absent\\rgba_935.tif, Dimensions: (3, 640, 640)\n",
      "Image: .\\data\\test\\absent\\rgba_939.tif, Dimensions: (3, 640, 640)\n",
      "Image: .\\data\\test\\absent\\rgba_940.tif, Dimensions: (3, 640, 640)\n",
      "Image: .\\data\\test\\absent\\rgba_943.tif, Dimensions: (3, 640, 640)\n",
      "Image: .\\data\\test\\absent\\rgba_947.tif, Dimensions: (3, 640, 640)\n",
      "Image: .\\data\\test\\absent\\rgba_951.tif, Dimensions: (3, 640, 640)\n",
      "Image: .\\data\\test\\absent\\rgba_960.tif, Dimensions: (3, 640, 640)\n",
      "Image: .\\data\\test\\absent\\rgba_961.tif, Dimensions: (3, 640, 640)\n",
      "Image: .\\data\\test\\absent\\rgba_98.tif, Dimensions: (3, 640, 640)\n",
      "Image: .\\data\\test\\absent\\rgba_982.tif, Dimensions: (3, 640, 640)\n",
      "Image: .\\data\\test\\absent\\rgba_983.tif, Dimensions: (3, 640, 640)\n",
      "Image: .\\data\\test\\absent\\rgba_99.tif, Dimensions: (3, 640, 640)\n",
      "Image: .\\data\\test\\absent\\rgba_993.tif, Dimensions: (3, 640, 640)\n",
      "Image: .\\data\\test\\absent\\rgba_994.tif, Dimensions: (3, 640, 640)\n",
      "Image: .\\data\\test\\present\\rgb_1004.tif, Dimensions: (3, 640, 640)\n",
      "Image: .\\data\\test\\present\\rgb_1006.tif, Dimensions: (3, 640, 640)\n",
      "Image: .\\data\\test\\present\\rgb_1008.tif, Dimensions: (3, 640, 640)\n",
      "Image: .\\data\\test\\present\\rgb_101.tif, Dimensions: (3, 640, 640)\n",
      "Image: .\\data\\test\\present\\rgb_1010.tif, Dimensions: (3, 640, 640)\n",
      "Image: .\\data\\test\\present\\rgb_1011.tif, Dimensions: (3, 640, 640)\n",
      "Image: .\\data\\test\\present\\rgb_1014.tif, Dimensions: (3, 640, 640)\n",
      "Image: .\\data\\test\\present\\rgb_1015.tif, Dimensions: (3, 640, 640)\n",
      "Image: .\\data\\test\\present\\rgb_1017.tif, Dimensions: (3, 640, 640)\n",
      "Image: .\\data\\test\\present\\rgb_1019.tif, Dimensions: (3, 640, 640)\n",
      "Image: .\\data\\test\\present\\rgb_1020.tif, Dimensions: (3, 640, 640)\n",
      "Image: .\\data\\test\\present\\rgb_104.tif, Dimensions: (3, 640, 640)\n",
      "Image: .\\data\\test\\present\\rgb_1040.tif, Dimensions: (3, 640, 640)\n",
      "Image: .\\data\\test\\present\\rgb_1041.tif, Dimensions: (3, 640, 640)\n",
      "Image: .\\data\\test\\present\\rgb_1044.tif, Dimensions: (3, 640, 640)\n",
      "Image: .\\data\\test\\present\\rgb_1051.tif, Dimensions: (3, 640, 640)\n",
      "Image: .\\data\\test\\present\\rgb_1056.tif, Dimensions: (3, 640, 640)\n",
      "Image: .\\data\\test\\present\\rgb_1059.tif, Dimensions: (3, 640, 640)\n",
      "Image: .\\data\\test\\present\\rgb_1064.tif, Dimensions: (3, 640, 640)\n",
      "Image: .\\data\\test\\present\\rgb_1069.tif, Dimensions: (3, 640, 640)\n",
      "Image: .\\data\\test\\present\\rgb_1076.tif, Dimensions: (3, 640, 640)\n",
      "Image: .\\data\\test\\present\\rgb_1079.tif, Dimensions: (3, 640, 640)\n",
      "Image: .\\data\\test\\present\\rgb_1081.tif, Dimensions: (3, 640, 640)\n",
      "Image: .\\data\\test\\present\\rgb_109.tif, Dimensions: (3, 640, 640)\n",
      "Image: .\\data\\test\\present\\rgb_111.tif, Dimensions: (3, 640, 640)\n",
      "Image: .\\data\\test\\present\\rgb_120.tif, Dimensions: (3, 640, 640)\n",
      "Image: .\\data\\test\\present\\rgb_122.tif, Dimensions: (3, 640, 640)\n",
      "Image: .\\data\\test\\present\\rgb_124.tif, Dimensions: (3, 640, 640)\n",
      "Image: .\\data\\test\\present\\rgb_131.tif, Dimensions: (3, 640, 640)\n",
      "Image: .\\data\\test\\present\\rgb_132.tif, Dimensions: (3, 640, 640)\n",
      "Image: .\\data\\test\\present\\rgb_133.tif, Dimensions: (3, 640, 640)\n",
      "Image: .\\data\\test\\present\\rgb_135.tif, Dimensions: (3, 640, 640)\n",
      "Image: .\\data\\test\\present\\rgb_144.tif, Dimensions: (3, 640, 640)\n",
      "Image: .\\data\\test\\present\\rgb_148.tif, Dimensions: (3, 640, 640)\n",
      "Image: .\\data\\test\\present\\rgb_153.tif, Dimensions: (3, 640, 640)\n",
      "Image: .\\data\\test\\present\\rgb_157.tif, Dimensions: (3, 640, 640)\n",
      "Image: .\\data\\test\\present\\rgb_16.tif, Dimensions: (3, 640, 640)\n",
      "Image: .\\data\\test\\present\\rgb_163.tif, Dimensions: (3, 640, 640)\n",
      "Image: .\\data\\test\\present\\rgb_165.tif, Dimensions: (3, 640, 640)\n",
      "Image: .\\data\\test\\present\\rgb_166.tif, Dimensions: (3, 640, 640)\n",
      "Image: .\\data\\test\\present\\rgb_172.tif, Dimensions: (3, 640, 640)\n",
      "Image: .\\data\\test\\present\\rgb_173.tif, Dimensions: (3, 640, 640)\n",
      "Image: .\\data\\test\\present\\rgb_176.tif, Dimensions: (3, 640, 640)\n",
      "Image: .\\data\\test\\present\\rgb_178.tif, Dimensions: (3, 640, 640)\n",
      "Image: .\\data\\test\\present\\rgb_18.tif, Dimensions: (3, 640, 640)\n",
      "Image: .\\data\\test\\present\\rgb_199.tif, Dimensions: (3, 640, 640)\n",
      "Image: .\\data\\test\\present\\rgb_203.tif, Dimensions: (3, 640, 640)\n",
      "Image: .\\data\\test\\present\\rgb_204.tif, Dimensions: (3, 640, 640)\n",
      "Image: .\\data\\test\\present\\rgb_210.tif, Dimensions: (3, 640, 640)\n",
      "Image: .\\data\\test\\present\\rgb_211.tif, Dimensions: (3, 640, 640)\n",
      "Image: .\\data\\test\\present\\rgb_213.tif, Dimensions: (3, 640, 640)\n",
      "Image: .\\data\\test\\present\\rgb_214.tif, Dimensions: (3, 640, 640)\n",
      "Image: .\\data\\test\\present\\rgb_218.tif, Dimensions: (3, 640, 640)\n",
      "Image: .\\data\\test\\present\\rgb_219.tif, Dimensions: (3, 640, 640)\n",
      "Image: .\\data\\test\\present\\rgb_230.tif, Dimensions: (3, 640, 640)\n",
      "Image: .\\data\\test\\present\\rgb_232.tif, Dimensions: (3, 640, 640)\n",
      "Image: .\\data\\test\\present\\rgb_234.tif, Dimensions: (3, 640, 640)\n",
      "Image: .\\data\\test\\present\\rgb_239.tif, Dimensions: (3, 640, 640)\n",
      "Image: .\\data\\test\\present\\rgb_241.tif, Dimensions: (3, 640, 640)\n",
      "Image: .\\data\\test\\present\\rgb_247.tif, Dimensions: (3, 640, 640)\n",
      "Image: .\\data\\test\\present\\rgb_25.tif, Dimensions: (3, 640, 640)\n",
      "Image: .\\data\\test\\present\\rgb_252.tif, Dimensions: (3, 640, 640)\n",
      "Image: .\\data\\test\\present\\rgb_26.tif, Dimensions: (3, 640, 640)\n",
      "Image: .\\data\\test\\present\\rgb_261.tif, Dimensions: (3, 640, 640)\n",
      "Image: .\\data\\test\\present\\rgb_266.tif, Dimensions: (3, 640, 640)\n",
      "Image: .\\data\\test\\present\\rgb_292.tif, Dimensions: (3, 640, 640)\n",
      "Image: .\\data\\test\\present\\rgb_293.tif, Dimensions: (3, 640, 640)\n",
      "Image: .\\data\\test\\present\\rgb_295.tif, Dimensions: (3, 640, 640)\n",
      "Image: .\\data\\test\\present\\rgb_306.tif, Dimensions: (3, 640, 640)\n",
      "Image: .\\data\\test\\present\\rgb_307.tif, Dimensions: (3, 640, 640)\n",
      "Image: .\\data\\test\\present\\rgb_312.tif, Dimensions: (3, 640, 640)\n",
      "Image: .\\data\\test\\present\\rgb_319.tif, Dimensions: (3, 640, 640)\n",
      "Image: .\\data\\test\\present\\rgb_33.tif, Dimensions: (3, 640, 640)\n",
      "Image: .\\data\\test\\present\\rgb_331.tif, Dimensions: (3, 640, 640)\n",
      "Image: .\\data\\test\\present\\rgb_336.tif, Dimensions: (3, 640, 640)\n",
      "Image: .\\data\\test\\present\\rgb_34.tif, Dimensions: (3, 640, 640)\n",
      "Image: .\\data\\test\\present\\rgb_349.tif, Dimensions: (3, 640, 640)\n",
      "Image: .\\data\\test\\present\\rgb_358.tif, Dimensions: (3, 640, 640)\n",
      "Image: .\\data\\test\\present\\rgb_36.tif, Dimensions: (3, 640, 640)\n",
      "Image: .\\data\\test\\present\\rgb_364.tif, Dimensions: (3, 640, 640)\n",
      "Image: .\\data\\test\\present\\rgb_367.tif, Dimensions: (3, 640, 640)\n",
      "Image: .\\data\\test\\present\\rgb_371.tif, Dimensions: (3, 640, 640)\n",
      "Image: .\\data\\test\\present\\rgb_377.tif, Dimensions: (3, 640, 640)\n",
      "Image: .\\data\\test\\present\\rgb_380.tif, Dimensions: (3, 640, 640)\n",
      "Image: .\\data\\test\\present\\rgb_384.tif, Dimensions: (3, 640, 640)\n",
      "Image: .\\data\\test\\present\\rgb_386.tif, Dimensions: (3, 640, 640)\n",
      "Image: .\\data\\test\\present\\rgb_391.tif, Dimensions: (3, 640, 640)\n",
      "Image: .\\data\\test\\present\\rgb_396.tif, Dimensions: (3, 640, 640)\n",
      "Image: .\\data\\test\\present\\rgb_403.tif, Dimensions: (3, 640, 640)\n",
      "Image: .\\data\\test\\present\\rgb_405.tif, Dimensions: (3, 640, 640)\n",
      "Image: .\\data\\test\\present\\rgb_410.tif, Dimensions: (3, 640, 640)\n",
      "Image: .\\data\\test\\present\\rgb_413.tif, Dimensions: (3, 640, 640)\n",
      "Image: .\\data\\test\\present\\rgb_418.tif, Dimensions: (3, 640, 640)\n",
      "Image: .\\data\\test\\present\\rgb_422.tif, Dimensions: (3, 640, 640)\n",
      "Image: .\\data\\test\\present\\rgb_424.tif, Dimensions: (3, 640, 640)\n",
      "Image: .\\data\\test\\present\\rgb_429.tif, Dimensions: (3, 640, 640)\n",
      "Image: .\\data\\test\\present\\rgb_431.tif, Dimensions: (3, 640, 640)\n",
      "Image: .\\data\\test\\present\\rgb_437.tif, Dimensions: (3, 640, 640)\n",
      "Image: .\\data\\test\\present\\rgb_438.tif, Dimensions: (3, 640, 640)\n",
      "Image: .\\data\\test\\present\\rgb_440.tif, Dimensions: (3, 640, 640)\n",
      "Image: .\\data\\test\\present\\rgb_445.tif, Dimensions: (3, 640, 640)\n",
      "Image: .\\data\\test\\present\\rgb_447.tif, Dimensions: (3, 640, 640)\n",
      "Image: .\\data\\test\\present\\rgb_450.tif, Dimensions: (3, 640, 640)\n",
      "Image: .\\data\\test\\present\\rgb_452.tif, Dimensions: (3, 640, 640)\n",
      "Image: .\\data\\test\\present\\rgb_458.tif, Dimensions: (3, 640, 640)\n",
      "Image: .\\data\\test\\present\\rgb_470.tif, Dimensions: (3, 640, 640)\n",
      "Image: .\\data\\test\\present\\rgb_471.tif, Dimensions: (3, 640, 640)\n",
      "Image: .\\data\\test\\present\\rgb_495.tif, Dimensions: (3, 640, 640)\n",
      "Image: .\\data\\test\\present\\rgb_5.tif, Dimensions: (3, 640, 640)\n",
      "Image: .\\data\\test\\present\\rgb_504.tif, Dimensions: (3, 640, 640)\n",
      "Image: .\\data\\test\\present\\rgb_514.tif, Dimensions: (3, 640, 640)\n",
      "Image: .\\data\\test\\present\\rgb_521.tif, Dimensions: (3, 640, 640)\n",
      "Image: .\\data\\test\\present\\rgb_525.tif, Dimensions: (3, 640, 640)\n",
      "Image: .\\data\\test\\present\\rgb_532.tif, Dimensions: (3, 640, 640)\n",
      "Image: .\\data\\test\\present\\rgb_538.tif, Dimensions: (3, 640, 640)\n",
      "Image: .\\data\\test\\present\\rgb_542.tif, Dimensions: (3, 640, 640)\n",
      "Image: .\\data\\test\\present\\rgb_543.tif, Dimensions: (3, 640, 640)\n",
      "Image: .\\data\\test\\present\\rgb_546.tif, Dimensions: (3, 640, 640)\n",
      "Image: .\\data\\test\\present\\rgb_559.tif, Dimensions: (3, 640, 640)\n",
      "Image: .\\data\\test\\present\\rgb_568.tif, Dimensions: (3, 640, 640)\n",
      "Image: .\\data\\test\\present\\rgb_576.tif, Dimensions: (3, 640, 640)\n",
      "Image: .\\data\\test\\present\\rgb_582.tif, Dimensions: (3, 640, 640)\n",
      "Image: .\\data\\test\\present\\rgb_59.tif, Dimensions: (3, 640, 640)\n",
      "Image: .\\data\\test\\present\\rgb_597.tif, Dimensions: (3, 640, 640)\n",
      "Image: .\\data\\test\\present\\rgb_611.tif, Dimensions: (3, 640, 640)\n",
      "Image: .\\data\\test\\present\\rgb_612.tif, Dimensions: (3, 640, 640)\n",
      "Image: .\\data\\test\\present\\rgb_615.tif, Dimensions: (3, 640, 640)\n",
      "Image: .\\data\\test\\present\\rgb_618.tif, Dimensions: (3, 640, 640)\n",
      "Image: .\\data\\test\\present\\rgb_619.tif, Dimensions: (3, 640, 640)\n",
      "Image: .\\data\\test\\present\\rgb_622.tif, Dimensions: (3, 640, 640)\n",
      "Image: .\\data\\test\\present\\rgb_629.tif, Dimensions: (3, 640, 640)\n",
      "Image: .\\data\\test\\present\\rgb_630.tif, Dimensions: (3, 640, 640)\n",
      "Image: .\\data\\test\\present\\rgb_633.tif, Dimensions: (3, 640, 640)\n",
      "Image: .\\data\\test\\present\\rgb_635.tif, Dimensions: (3, 640, 640)\n",
      "Image: .\\data\\test\\present\\rgb_637.tif, Dimensions: (3, 640, 640)\n",
      "Image: .\\data\\test\\present\\rgb_64.tif, Dimensions: (3, 640, 640)\n",
      "Image: .\\data\\test\\present\\rgb_640.tif, Dimensions: (3, 640, 640)\n",
      "Image: .\\data\\test\\present\\rgb_641.tif, Dimensions: (3, 640, 640)\n",
      "Image: .\\data\\test\\present\\rgb_644.tif, Dimensions: (3, 640, 640)\n",
      "Image: .\\data\\test\\present\\rgb_648.tif, Dimensions: (3, 640, 640)\n",
      "Image: .\\data\\test\\present\\rgb_649.tif, Dimensions: (3, 640, 640)\n",
      "Image: .\\data\\test\\present\\rgb_650.tif, Dimensions: (3, 640, 640)\n",
      "Image: .\\data\\test\\present\\rgb_652.tif, Dimensions: (3, 640, 640)\n",
      "Image: .\\data\\test\\present\\rgb_653.tif, Dimensions: (3, 640, 640)\n",
      "Image: .\\data\\test\\present\\rgb_654.tif, Dimensions: (3, 640, 640)\n",
      "Image: .\\data\\test\\present\\rgb_671.tif, Dimensions: (3, 640, 640)\n",
      "Image: .\\data\\test\\present\\rgb_673.tif, Dimensions: (3, 640, 640)\n",
      "Image: .\\data\\test\\present\\rgb_674.tif, Dimensions: (3, 640, 640)\n",
      "Image: .\\data\\test\\present\\rgb_676.tif, Dimensions: (3, 640, 640)\n",
      "Image: .\\data\\test\\present\\rgb_688.tif, Dimensions: (3, 640, 640)\n",
      "Image: .\\data\\test\\present\\rgb_703.tif, Dimensions: (3, 640, 640)\n",
      "Image: .\\data\\test\\present\\rgb_707.tif, Dimensions: (3, 640, 640)\n",
      "Image: .\\data\\test\\present\\rgb_71.tif, Dimensions: (3, 640, 640)\n",
      "Image: .\\data\\test\\present\\rgb_718.tif, Dimensions: (3, 640, 640)\n",
      "Image: .\\data\\test\\present\\rgb_723.tif, Dimensions: (3, 640, 640)\n",
      "Image: .\\data\\test\\present\\rgb_730.tif, Dimensions: (3, 640, 640)\n",
      "Image: .\\data\\test\\present\\rgb_734.tif, Dimensions: (3, 640, 640)\n",
      "Image: .\\data\\test\\present\\rgb_736.tif, Dimensions: (3, 640, 640)\n",
      "Image: .\\data\\test\\present\\rgb_737.tif, Dimensions: (3, 640, 640)\n",
      "Image: .\\data\\test\\present\\rgb_74.tif, Dimensions: (3, 640, 640)\n",
      "Image: .\\data\\test\\present\\rgb_740.tif, Dimensions: (3, 640, 640)\n",
      "Image: .\\data\\test\\present\\rgb_75.tif, Dimensions: (3, 640, 640)\n",
      "Image: .\\data\\test\\present\\rgb_763.tif, Dimensions: (3, 640, 640)\n",
      "Image: .\\data\\test\\present\\rgb_77.tif, Dimensions: (3, 640, 640)\n",
      "Image: .\\data\\test\\present\\rgb_774.tif, Dimensions: (3, 640, 640)\n",
      "Image: .\\data\\test\\present\\rgb_775.tif, Dimensions: (3, 640, 640)\n",
      "Image: .\\data\\test\\present\\rgb_778.tif, Dimensions: (3, 640, 640)\n",
      "Image: .\\data\\test\\present\\rgb_779.tif, Dimensions: (3, 640, 640)\n",
      "Image: .\\data\\test\\present\\rgb_782.tif, Dimensions: (3, 640, 640)\n",
      "Image: .\\data\\test\\present\\rgb_788.tif, Dimensions: (3, 640, 640)\n",
      "Image: .\\data\\test\\present\\rgb_794.tif, Dimensions: (3, 640, 640)\n",
      "Image: .\\data\\test\\present\\rgb_798.tif, Dimensions: (3, 640, 640)\n",
      "Image: .\\data\\test\\present\\rgb_800.tif, Dimensions: (3, 640, 640)\n",
      "Image: .\\data\\test\\present\\rgb_806.tif, Dimensions: (3, 640, 640)\n",
      "Image: .\\data\\test\\present\\rgb_807.tif, Dimensions: (3, 640, 640)\n",
      "Image: .\\data\\test\\present\\rgb_810.tif, Dimensions: (3, 640, 640)\n",
      "Image: .\\data\\test\\present\\rgb_814.tif, Dimensions: (3, 640, 640)\n",
      "Image: .\\data\\test\\present\\rgb_821.tif, Dimensions: (3, 640, 640)\n",
      "Image: .\\data\\test\\present\\rgb_822.tif, Dimensions: (3, 640, 640)\n",
      "Image: .\\data\\test\\present\\rgb_838.tif, Dimensions: (3, 640, 640)\n",
      "Image: .\\data\\test\\present\\rgb_841.tif, Dimensions: (3, 640, 640)\n",
      "Image: .\\data\\test\\present\\rgb_845.tif, Dimensions: (3, 640, 640)\n",
      "Image: .\\data\\test\\present\\rgb_848.tif, Dimensions: (3, 640, 640)\n",
      "Image: .\\data\\test\\present\\rgb_849.tif, Dimensions: (3, 640, 640)\n",
      "Image: .\\data\\test\\present\\rgb_851.tif, Dimensions: (3, 640, 640)\n",
      "Image: .\\data\\test\\present\\rgb_853.tif, Dimensions: (3, 640, 640)\n",
      "Image: .\\data\\test\\present\\rgb_860.tif, Dimensions: (3, 640, 640)\n",
      "Image: .\\data\\test\\present\\rgb_870.tif, Dimensions: (3, 640, 640)\n",
      "Image: .\\data\\test\\present\\rgb_874.tif, Dimensions: (3, 640, 640)\n",
      "Image: .\\data\\test\\present\\rgb_876.tif, Dimensions: (3, 640, 640)\n",
      "Image: .\\data\\test\\present\\rgb_880.tif, Dimensions: (3, 640, 640)\n",
      "Image: .\\data\\test\\present\\rgb_885.tif, Dimensions: (3, 640, 640)\n",
      "Image: .\\data\\test\\present\\rgb_896.tif, Dimensions: (3, 640, 640)\n",
      "Image: .\\data\\test\\present\\rgb_90.tif, Dimensions: (3, 640, 640)\n",
      "Image: .\\data\\test\\present\\rgb_900.tif, Dimensions: (3, 640, 640)\n",
      "Image: .\\data\\test\\present\\rgb_903.tif, Dimensions: (3, 640, 640)\n",
      "Image: .\\data\\test\\present\\rgb_905.tif, Dimensions: (3, 640, 640)\n",
      "Image: .\\data\\test\\present\\rgb_906.tif, Dimensions: (3, 640, 640)\n",
      "Image: .\\data\\test\\present\\rgb_907.tif, Dimensions: (3, 640, 640)\n",
      "Image: .\\data\\test\\present\\rgb_910.tif, Dimensions: (3, 640, 640)\n",
      "Image: .\\data\\test\\present\\rgb_916.tif, Dimensions: (3, 640, 640)\n",
      "Image: .\\data\\test\\present\\rgb_93.tif, Dimensions: (3, 640, 640)\n",
      "Image: .\\data\\test\\present\\rgb_932.tif, Dimensions: (3, 640, 640)\n",
      "Image: .\\data\\test\\present\\rgb_939.tif, Dimensions: (3, 640, 640)\n",
      "Image: .\\data\\test\\present\\rgb_950.tif, Dimensions: (3, 640, 640)\n",
      "Image: .\\data\\test\\present\\rgb_960.tif, Dimensions: (3, 640, 640)\n",
      "Image: .\\data\\test\\present\\rgb_963.tif, Dimensions: (3, 640, 640)\n",
      "Image: .\\data\\test\\present\\rgb_965.tif, Dimensions: (3, 640, 640)\n",
      "Image: .\\data\\test\\present\\rgb_967.tif, Dimensions: (3, 640, 640)\n",
      "Image: .\\data\\test\\present\\rgb_976.tif, Dimensions: (3, 640, 640)\n",
      "Image: .\\data\\test\\present\\rgb_982.tif, Dimensions: (3, 640, 640)\n",
      "Image: .\\data\\test\\present\\rgb_983.tif, Dimensions: (3, 640, 640)\n",
      "Image: .\\data\\test\\present\\rgb_990.tif, Dimensions: (3, 640, 640)\n",
      "Image: .\\data\\test\\present\\rgb_993.tif, Dimensions: (3, 640, 640)\n"
     ]
    }
   ],
   "source": [
    "# Get the dimensions of each image file\n",
    "test_image_dim = test_dataset.get_padded_image_dimensions()\n",
    "\n",
    "# Print the dimensions of each image file\n",
    "for img_name, dim in test_image_dim:\n",
    "    print(f\"Image: {img_name}, Dimensions: {dim}\")"
   ]
  },
  {
   "cell_type": "code",
   "execution_count": 57,
   "metadata": {},
   "outputs": [],
   "source": [
    "batch_size = 10\n",
    "\n",
    "train_loader = DataLoader(dataset=train_dataset, batch_size=batch_size, shuffle=True)\n",
    "test_loader = DataLoader(dataset=test_dataset, batch_size=batch_size, shuffle=False)"
   ]
  },
  {
   "cell_type": "code",
   "execution_count": 58,
   "metadata": {
    "collapsed": true,
    "jupyter": {
     "outputs_hidden": true
    }
   },
   "outputs": [
    {
     "data": {
      "text/plain": [
       "[tensor([[[[-1.0000, -1.0000, -1.0000,  ..., -1.0000, -1.0000, -1.0000],\n",
       "           [-1.0000,  0.2549,  0.2314,  ...,  0.2235, -1.0000, -1.0000],\n",
       "           [-1.0000,  0.2392,  0.2392,  ...,  0.2078, -1.0000, -1.0000],\n",
       "           ...,\n",
       "           [-1.0000,  0.2627,  0.2784,  ...,  0.2627, -1.0000, -1.0000],\n",
       "           [-1.0000, -1.0000, -1.0000,  ..., -1.0000, -1.0000, -1.0000],\n",
       "           [-1.0000, -1.0000, -1.0000,  ..., -1.0000, -1.0000, -1.0000]],\n",
       " \n",
       "          [[-1.0000, -1.0000, -1.0000,  ..., -1.0000, -1.0000, -1.0000],\n",
       "           [-1.0000,  0.2157,  0.1922,  ...,  0.2157, -1.0000, -1.0000],\n",
       "           [-1.0000,  0.2000,  0.2000,  ...,  0.2000, -1.0000, -1.0000],\n",
       "           ...,\n",
       "           [-1.0000,  0.2235,  0.2392,  ...,  0.2314, -1.0000, -1.0000],\n",
       "           [-1.0000, -1.0000, -1.0000,  ..., -1.0000, -1.0000, -1.0000],\n",
       "           [-1.0000, -1.0000, -1.0000,  ..., -1.0000, -1.0000, -1.0000]],\n",
       " \n",
       "          [[-1.0000, -1.0000, -1.0000,  ..., -1.0000, -1.0000, -1.0000],\n",
       "           [-1.0000,  0.0431,  0.0196,  ...,  0.0745, -1.0000, -1.0000],\n",
       "           [-1.0000,  0.0275,  0.0275,  ...,  0.0588, -1.0000, -1.0000],\n",
       "           ...,\n",
       "           [-1.0000,  0.0745,  0.0902,  ...,  0.0353, -1.0000, -1.0000],\n",
       "           [-1.0000, -1.0000, -1.0000,  ..., -1.0000, -1.0000, -1.0000],\n",
       "           [-1.0000, -1.0000, -1.0000,  ..., -1.0000, -1.0000, -1.0000]]],\n",
       " \n",
       " \n",
       "         [[[-1.0000, -1.0000, -1.0000,  ..., -1.0000, -1.0000, -1.0000],\n",
       "           [-1.0000,  0.0118,  0.0039,  ...,  0.1529, -1.0000, -1.0000],\n",
       "           [-1.0000, -0.0275, -0.1294,  ...,  0.1451, -1.0000, -1.0000],\n",
       "           ...,\n",
       "           [-1.0000, -1.0000, -1.0000,  ..., -1.0000, -1.0000, -1.0000],\n",
       "           [-1.0000, -1.0000, -1.0000,  ..., -1.0000, -1.0000, -1.0000],\n",
       "           [-1.0000, -1.0000, -1.0000,  ..., -1.0000, -1.0000, -1.0000]],\n",
       " \n",
       "          [[-1.0000, -1.0000, -1.0000,  ..., -1.0000, -1.0000, -1.0000],\n",
       "           [-1.0000,  0.0980,  0.0902,  ...,  0.2078, -1.0000, -1.0000],\n",
       "           [-1.0000,  0.0588, -0.0431,  ...,  0.1843, -1.0000, -1.0000],\n",
       "           ...,\n",
       "           [-1.0000, -1.0000, -1.0000,  ..., -1.0000, -1.0000, -1.0000],\n",
       "           [-1.0000, -1.0000, -1.0000,  ..., -1.0000, -1.0000, -1.0000],\n",
       "           [-1.0000, -1.0000, -1.0000,  ..., -1.0000, -1.0000, -1.0000]],\n",
       " \n",
       "          [[-1.0000, -1.0000, -1.0000,  ..., -1.0000, -1.0000, -1.0000],\n",
       "           [-1.0000, -0.2314, -0.2392,  ..., -0.1137, -1.0000, -1.0000],\n",
       "           [-1.0000, -0.2706, -0.3725,  ..., -0.1294, -1.0000, -1.0000],\n",
       "           ...,\n",
       "           [-1.0000, -1.0000, -1.0000,  ..., -1.0000, -1.0000, -1.0000],\n",
       "           [-1.0000, -1.0000, -1.0000,  ..., -1.0000, -1.0000, -1.0000],\n",
       "           [-1.0000, -1.0000, -1.0000,  ..., -1.0000, -1.0000, -1.0000]]],\n",
       " \n",
       " \n",
       "         [[[-1.0000, -1.0000, -1.0000,  ..., -1.0000, -1.0000, -1.0000],\n",
       "           [-1.0000,  0.4824,  0.4667,  ...,  0.4745, -1.0000, -1.0000],\n",
       "           [-1.0000,  0.4980,  0.4824,  ...,  0.4745, -1.0000, -1.0000],\n",
       "           ...,\n",
       "           [-1.0000, -1.0000, -1.0000,  ..., -1.0000, -1.0000, -1.0000],\n",
       "           [-1.0000, -1.0000, -1.0000,  ..., -1.0000, -1.0000, -1.0000],\n",
       "           [-1.0000, -1.0000, -1.0000,  ..., -1.0000, -1.0000, -1.0000]],\n",
       " \n",
       "          [[-1.0000, -1.0000, -1.0000,  ..., -1.0000, -1.0000, -1.0000],\n",
       "           [-1.0000,  0.4510,  0.4353,  ...,  0.4353, -1.0000, -1.0000],\n",
       "           [-1.0000,  0.4667,  0.4510,  ...,  0.4353, -1.0000, -1.0000],\n",
       "           ...,\n",
       "           [-1.0000, -1.0000, -1.0000,  ..., -1.0000, -1.0000, -1.0000],\n",
       "           [-1.0000, -1.0000, -1.0000,  ..., -1.0000, -1.0000, -1.0000],\n",
       "           [-1.0000, -1.0000, -1.0000,  ..., -1.0000, -1.0000, -1.0000]],\n",
       " \n",
       "          [[-1.0000, -1.0000, -1.0000,  ..., -1.0000, -1.0000, -1.0000],\n",
       "           [-1.0000,  0.2392,  0.2235,  ...,  0.2627, -1.0000, -1.0000],\n",
       "           [-1.0000,  0.2549,  0.2392,  ...,  0.2627, -1.0000, -1.0000],\n",
       "           ...,\n",
       "           [-1.0000, -1.0000, -1.0000,  ..., -1.0000, -1.0000, -1.0000],\n",
       "           [-1.0000, -1.0000, -1.0000,  ..., -1.0000, -1.0000, -1.0000],\n",
       "           [-1.0000, -1.0000, -1.0000,  ..., -1.0000, -1.0000, -1.0000]]],\n",
       " \n",
       " \n",
       "         ...,\n",
       " \n",
       " \n",
       "         [[[-1.0000, -1.0000, -1.0000,  ..., -1.0000, -1.0000, -1.0000],\n",
       "           [-1.0000, -1.0000,  0.0902,  ...,  0.1529, -1.0000, -1.0000],\n",
       "           [-1.0000, -1.0000,  0.0980,  ...,  0.1529, -1.0000, -1.0000],\n",
       "           ...,\n",
       "           [-1.0000, -1.0000,  0.2000,  ...,  0.4902, -1.0000, -1.0000],\n",
       "           [-1.0000, -1.0000, -1.0000,  ..., -1.0000, -1.0000, -1.0000],\n",
       "           [-1.0000, -1.0000, -1.0000,  ..., -1.0000, -1.0000, -1.0000]],\n",
       " \n",
       "          [[-1.0000, -1.0000, -1.0000,  ..., -1.0000, -1.0000, -1.0000],\n",
       "           [-1.0000, -1.0000,  0.1137,  ...,  0.2000, -1.0000, -1.0000],\n",
       "           [-1.0000, -1.0000,  0.1216,  ...,  0.2000, -1.0000, -1.0000],\n",
       "           ...,\n",
       "           [-1.0000, -1.0000,  0.2392,  ...,  0.4588, -1.0000, -1.0000],\n",
       "           [-1.0000, -1.0000, -1.0000,  ..., -1.0000, -1.0000, -1.0000],\n",
       "           [-1.0000, -1.0000, -1.0000,  ..., -1.0000, -1.0000, -1.0000]],\n",
       " \n",
       "          [[-1.0000, -1.0000, -1.0000,  ..., -1.0000, -1.0000, -1.0000],\n",
       "           [-1.0000, -1.0000, -0.1294,  ..., -0.0667, -1.0000, -1.0000],\n",
       "           [-1.0000, -1.0000, -0.1216,  ..., -0.0667, -1.0000, -1.0000],\n",
       "           ...,\n",
       "           [-1.0000, -1.0000, -0.0118,  ...,  0.2471, -1.0000, -1.0000],\n",
       "           [-1.0000, -1.0000, -1.0000,  ..., -1.0000, -1.0000, -1.0000],\n",
       "           [-1.0000, -1.0000, -1.0000,  ..., -1.0000, -1.0000, -1.0000]]],\n",
       " \n",
       " \n",
       "         [[[-1.0000, -1.0000, -1.0000,  ..., -1.0000, -1.0000, -1.0000],\n",
       "           [-1.0000, -1.0000,  0.0902,  ...,  0.1608, -1.0000, -1.0000],\n",
       "           [-1.0000, -1.0000,  0.1137,  ...,  0.2000, -1.0000, -1.0000],\n",
       "           ...,\n",
       "           [-1.0000, -1.0000,  0.2549,  ..., -0.0118, -1.0000, -1.0000],\n",
       "           [-1.0000, -1.0000, -1.0000,  ..., -1.0000, -1.0000, -1.0000],\n",
       "           [-1.0000, -1.0000, -1.0000,  ..., -1.0000, -1.0000, -1.0000]],\n",
       " \n",
       "          [[-1.0000, -1.0000, -1.0000,  ..., -1.0000, -1.0000, -1.0000],\n",
       "           [-1.0000, -1.0000, -0.0039,  ...,  0.1294, -1.0000, -1.0000],\n",
       "           [-1.0000, -1.0000,  0.0196,  ...,  0.1686, -1.0000, -1.0000],\n",
       "           ...,\n",
       "           [-1.0000, -1.0000,  0.2235,  ..., -0.0196, -1.0000, -1.0000],\n",
       "           [-1.0000, -1.0000, -1.0000,  ..., -1.0000, -1.0000, -1.0000],\n",
       "           [-1.0000, -1.0000, -1.0000,  ..., -1.0000, -1.0000, -1.0000]],\n",
       " \n",
       "          [[-1.0000, -1.0000, -1.0000,  ..., -1.0000, -1.0000, -1.0000],\n",
       "           [-1.0000, -1.0000, -0.2078,  ..., -0.0824, -1.0000, -1.0000],\n",
       "           [-1.0000, -1.0000, -0.1843,  ..., -0.0431, -1.0000, -1.0000],\n",
       "           ...,\n",
       "           [-1.0000, -1.0000, -0.0039,  ..., -0.2549, -1.0000, -1.0000],\n",
       "           [-1.0000, -1.0000, -1.0000,  ..., -1.0000, -1.0000, -1.0000],\n",
       "           [-1.0000, -1.0000, -1.0000,  ..., -1.0000, -1.0000, -1.0000]]],\n",
       " \n",
       " \n",
       "         [[[-1.0000, -1.0000, -1.0000,  ..., -1.0000, -1.0000, -1.0000],\n",
       "           [-1.0000,  0.2627,  0.2549,  ..., -1.0000, -1.0000, -1.0000],\n",
       "           [-1.0000,  0.2784,  0.2706,  ..., -1.0000, -1.0000, -1.0000],\n",
       "           ...,\n",
       "           [-1.0000,  0.2941,  0.2784,  ..., -1.0000, -1.0000, -1.0000],\n",
       "           [-1.0000, -1.0000, -1.0000,  ..., -1.0000, -1.0000, -1.0000],\n",
       "           [-1.0000, -1.0000, -1.0000,  ..., -1.0000, -1.0000, -1.0000]],\n",
       " \n",
       "          [[-1.0000, -1.0000, -1.0000,  ..., -1.0000, -1.0000, -1.0000],\n",
       "           [-1.0000,  0.2235,  0.2157,  ..., -1.0000, -1.0000, -1.0000],\n",
       "           [-1.0000,  0.2392,  0.2314,  ..., -1.0000, -1.0000, -1.0000],\n",
       "           ...,\n",
       "           [-1.0000,  0.2627,  0.2471,  ..., -1.0000, -1.0000, -1.0000],\n",
       "           [-1.0000, -1.0000, -1.0000,  ..., -1.0000, -1.0000, -1.0000],\n",
       "           [-1.0000, -1.0000, -1.0000,  ..., -1.0000, -1.0000, -1.0000]],\n",
       " \n",
       "          [[-1.0000, -1.0000, -1.0000,  ..., -1.0000, -1.0000, -1.0000],\n",
       "           [-1.0000,  0.0510,  0.0431,  ..., -1.0000, -1.0000, -1.0000],\n",
       "           [-1.0000,  0.0667,  0.0588,  ..., -1.0000, -1.0000, -1.0000],\n",
       "           ...,\n",
       "           [-1.0000,  0.0667,  0.0510,  ..., -1.0000, -1.0000, -1.0000],\n",
       "           [-1.0000, -1.0000, -1.0000,  ..., -1.0000, -1.0000, -1.0000],\n",
       "           [-1.0000, -1.0000, -1.0000,  ..., -1.0000, -1.0000, -1.0000]]]]),\n",
       " tensor([0, 0, 0, 0, 0, 0, 0, 0, 0, 0])]"
      ]
     },
     "execution_count": 58,
     "metadata": {},
     "output_type": "execute_result"
    }
   ],
   "source": [
    "next(iter(train_loader))"
   ]
  },
  {
   "cell_type": "markdown",
   "metadata": {},
   "source": [
    "## Convolutional neural network\n",
    "\n",
    "Now we are ready to create a convolutional model. As before we use `nn.Sequential` to easily create a sequence of layers.\n",
    "\n",
    "Here we use:\n",
    "\n",
    "- [Conv2d](https://pytorch.org/docs/stable/generated/torch.nn.Conv2d.html#torch.nn.Conv2d), which operates on 2D matrices so we input the digit images directly to the model (no need to \"flatten\" at this point),\n",
    "- [MaxPool2d](https://pytorch.org/docs/stable/generated/torch.nn.MaxPool2d.html#torch.nn.MaxPool2d) reduces the spatial dimensions, that is, makes the image smaller,\n",
    "- Finally we flatten the image to a vector and add two linear layers.\n",
    "\n",
    "All the [neural network building blocks defined in PyTorch can be found in the torch.nn documentation](https://pytorch.org/docs/stable/nn.html).\n",
    "\n",
    "The output of the last layer should be normalized with softmax, but this is actually included implicitly in the loss function in PyTorch (see below)."
   ]
  },
  {
   "cell_type": "code",
   "execution_count": 73,
   "metadata": {},
   "outputs": [],
   "source": [
    "class SimpleCNN(nn.Module):\n",
    "    def __init__(self):\n",
    "        super().__init__()\n",
    "        self.layers = nn.Sequential(\n",
    "            nn.Conv2d(3, 32, kernel_size=3, padding=1),  # Change input channels to 3\n",
    "            nn.ReLU(),\n",
    "            nn.MaxPool2d(kernel_size=2),\n",
    "            nn.Conv2d(32, 64, kernel_size=3, padding=1),\n",
    "            nn.ReLU(),\n",
    "            nn.MaxPool2d(kernel_size=2),\n",
    "            nn.Conv2d(64, 128, kernel_size=3, padding=1),\n",
    "            nn.ReLU(),\n",
    "            nn.MaxPool2d(kernel_size=2),\n",
    "            nn.Flatten(),\n",
    "            nn.Linear(128 * 80 * 80, 128),  # Adjust the input size for the linear layer\n",
    "            nn.ReLU(),\n",
    "            nn.Linear(128, 10)\n",
    "            #nn.Linear(128, 1),  # Output a single value per sample\n",
    "            #nn.Sigmoid()  # Apply sigmoid activation for binary classification\n",
    "        )\n",
    "\n",
    "    def forward(self, x):\n",
    "        return self.layers(x)"
   ]
  },
  {
   "cell_type": "code",
   "execution_count": 74,
   "metadata": {},
   "outputs": [
    {
     "name": "stdout",
     "output_type": "stream",
     "text": [
      "SimpleCNN(\n",
      "  (layers): Sequential(\n",
      "    (0): Conv2d(3, 32, kernel_size=(3, 3), stride=(1, 1), padding=(1, 1))\n",
      "    (1): ReLU()\n",
      "    (2): MaxPool2d(kernel_size=2, stride=2, padding=0, dilation=1, ceil_mode=False)\n",
      "    (3): Conv2d(32, 64, kernel_size=(3, 3), stride=(1, 1), padding=(1, 1))\n",
      "    (4): ReLU()\n",
      "    (5): MaxPool2d(kernel_size=2, stride=2, padding=0, dilation=1, ceil_mode=False)\n",
      "    (6): Conv2d(64, 128, kernel_size=(3, 3), stride=(1, 1), padding=(1, 1))\n",
      "    (7): ReLU()\n",
      "    (8): MaxPool2d(kernel_size=2, stride=2, padding=0, dilation=1, ceil_mode=False)\n",
      "    (9): Flatten(start_dim=1, end_dim=-1)\n",
      "    (10): Linear(in_features=819200, out_features=128, bias=True)\n",
      "    (11): ReLU()\n",
      "    (12): Linear(in_features=128, out_features=10, bias=True)\n",
      "  )\n",
      ")\n"
     ]
    }
   ],
   "source": [
    "model = SimpleCNN().to(device)\n",
    "print(model)"
   ]
  },
  {
   "cell_type": "markdown",
   "metadata": {},
   "source": [
    "**Note:** one slightly tricky thing in the code above is that you have to know the input dimension for the first linear layer. This is the output of the `Conv2d` followed by the `MaxPool2d`. This can be reasoned as follows:\n",
    "\n",
    "- the input to `Conv2d` will be 1x28x28 as the images have a single color channel (gray scale) and have a width by height of 28x28\n",
    "- the output of `Conv2d` will be 32x26x26 as the color channels are replaced by the outputs of the 32 convolution kernels, and due the valid padding and kernel size of 3x3 a border of 1 pixel will be excluded\n",
    "- `MaxPool2d` will remove every second pixel along each dimension, so we get 32x13x13=5408\n",
    "\n",
    "If you are lazy you can also just guess something and run the code. The error message will tell you what size it expected to have!"
   ]
  },
  {
   "cell_type": "markdown",
   "metadata": {},
   "source": [
    "## Learning\n",
    "\n",
    "Now let's train the CNN model.\n",
    "\n",
    "First we'll define the same functions as in the previous exercise. We've made a few minor additions:\n",
    "- In the `train` function we added `tqdm` to print a nicer progress bar as the training will be a bit slower this time.\n",
    "- We return the loss and accuracy so we can do some plotting"
   ]
  },
  {
   "cell_type": "code",
   "execution_count": 75,
   "metadata": {},
   "outputs": [],
   "source": [
    "def correct(output, target):\n",
    "    predicted_digits = output.argmax(1)                            # pick digit with largest network output\n",
    "    correct_ones = (predicted_digits == target).type(torch.float)  # 1.0 for correct, 0.0 for incorrect\n",
    "    return correct_ones.sum().item()                               # count number of correct ones\n"
   ]
  },
  {
   "cell_type": "code",
   "execution_count": 76,
   "metadata": {},
   "outputs": [],
   "source": [
    "def train(data_loader, model, criterion, optimizer):\n",
    "    model.train()\n",
    "\n",
    "    num_batches = len(data_loader)\n",
    "    num_items = len(data_loader.dataset)\n",
    "\n",
    "    total_loss = 0\n",
    "    total_correct = 0\n",
    "    for data, target in tqdm(data_loader, total=num_batches):\n",
    "        # Copy data and targets to GPU\n",
    "        data = data.to(device)\n",
    "        target = target.to(device)\n",
    "        \n",
    "        # Do a forward pass\n",
    "        output = model(data)\n",
    "        \n",
    "        # Calculate the loss\n",
    "        loss = criterion(output, target)\n",
    "        total_loss += loss\n",
    "\n",
    "        # Count number of correct digits\n",
    "        total_correct += correct(output, target)\n",
    "        \n",
    "        # Backpropagation\n",
    "        loss.backward()\n",
    "        optimizer.step()\n",
    "        optimizer.zero_grad()\n",
    "\n",
    "    scheduler.step()\n",
    "    train_loss = total_loss/num_batches\n",
    "    accuracy = total_correct/num_items\n",
    "    print(f\"Average loss: {train_loss:7f}, accuracy: {accuracy:.2%}\")\n",
    "    return train_loss.item(), accuracy\n"
   ]
  },
  {
   "cell_type": "code",
   "execution_count": 77,
   "metadata": {},
   "outputs": [],
   "source": [
    "criterion = nn.CrossEntropyLoss()\n",
    "optimizer = torch.optim.Adam(model.parameters())"
   ]
  },
  {
   "cell_type": "markdown",
   "metadata": {},
   "source": [
    "This is a relatively complex model, so training is considerably slower than with MLPs. "
   ]
  },
  {
   "cell_type": "code",
   "execution_count": null,
   "metadata": {},
   "outputs": [
    {
     "name": "stdout",
     "output_type": "stream",
     "text": [
      "Training epoch: 1\n"
     ]
    },
    {
     "name": "stderr",
     "output_type": "stream",
     "text": [
      "  1%|          | 1/168 [01:00<2:49:44, 60.98s/it]"
     ]
    }
   ],
   "source": [
    "%%time\n",
    "\n",
    "losses = []\n",
    "accuracies = []\n",
    "epochs = 5\n",
    "for epoch in range(epochs):\n",
    "    print(f\"Training epoch: {epoch+1}\")\n",
    "    loss, acc = train(train_loader, model, criterion, optimizer)\n",
    "    losses.append(loss)\n",
    "    accuracies.append(acc)"
   ]
  },
  {
   "cell_type": "markdown",
   "metadata": {},
   "source": [
    "Let's plot how the loss and accuracy change over the epochs"
   ]
  },
  {
   "cell_type": "code",
   "execution_count": 8,
   "metadata": {},
   "outputs": [
    {
     "data": {
      "image/png": "[encoded data removed]",
      "text/plain": [
       "<Figure size 640x480 with 2 Axes>"
      ]
     },
     "metadata": {},
     "output_type": "display_data"
    }
   ],
   "source": [
    "plt.subplot(2,1,1)\n",
    "plt.plot(losses)\n",
    "plt.ylabel(\"Loss\")\n",
    "plt.subplot(2,1,2)\n",
    "plt.plot(accuracies)\n",
    "plt.ylabel(\"Accuracy\");"
   ]
  },
  {
   "cell_type": "code",
   "execution_count": 9,
   "metadata": {},
   "outputs": [
    {
     "data": {
      "text/plain": [
       "[0.19852589070796967,\n",
       " 0.06715552508831024,\n",
       " 0.04481741413474083,\n",
       " 0.03207051753997803,\n",
       " 0.023258142173290253]"
      ]
     },
     "execution_count": 9,
     "metadata": {},
     "output_type": "execute_result"
    }
   ],
   "source": [
    "losses"
   ]
  },
  {
   "cell_type": "markdown",
   "metadata": {},
   "source": [
    "### Inference\n",
    "\n",
    "Here we have the same `test` function as before."
   ]
  },
  {
   "cell_type": "code",
   "execution_count": 10,
   "metadata": {},
   "outputs": [],
   "source": [
    "def test(test_loader, model, criterion):\n",
    "    model.eval()\n",
    "\n",
    "    num_batches = len(test_loader)\n",
    "    num_items = len(test_loader.dataset)\n",
    "\n",
    "    test_loss = 0\n",
    "    total_correct = 0\n",
    "\n",
    "    with torch.no_grad():\n",
    "        for data, target in test_loader:\n",
    "            # Copy data and targets to GPU\n",
    "            data = data.to(device)\n",
    "            target = target.to(device)\n",
    "        \n",
    "            # Do a forward pass\n",
    "            output = model(data)\n",
    "        \n",
    "            # Calculate the loss\n",
    "            loss = criterion(output, target)\n",
    "            test_loss += loss.item()\n",
    "        \n",
    "            # Count number of correct digits\n",
    "            total_correct += correct(output, target)\n",
    "\n",
    "    test_loss = test_loss/num_batches\n",
    "    accuracy = total_correct/num_items\n",
    "\n",
    "    print(f\"Testset accuracy: {100*accuracy:>0.1f}%, average loss: {test_loss:>7f}\")"
   ]
  },
  {
   "cell_type": "code",
   "execution_count": 11,
   "metadata": {},
   "outputs": [
    {
     "name": "stdout",
     "output_type": "stream",
     "text": [
      "Testset accuracy: 98.6%, average loss: 0.050482\n"
     ]
    }
   ],
   "source": [
    "test(test_loader, model, criterion)"
   ]
  },
  {
   "cell_type": "markdown",
   "metadata": {},
   "source": [
    "Let's take a look at the convolution weights of the Conv2D layer."
   ]
  },
  {
   "cell_type": "code",
   "execution_count": 12,
   "metadata": {},
   "outputs": [
    {
     "name": "stdout",
     "output_type": "stream",
     "text": [
      "0 <class '__main__.SimpleCNN'>\n",
      "1 <class 'torch.nn.modules.container.Sequential'>\n",
      "2 <class 'torch.nn.modules.conv.Conv2d'>\n",
      "3 <class 'torch.nn.modules.activation.ReLU'>\n",
      "4 <class 'torch.nn.modules.pooling.MaxPool2d'>\n",
      "5 <class 'torch.nn.modules.flatten.Flatten'>\n",
      "6 <class 'torch.nn.modules.linear.Linear'>\n",
      "7 <class 'torch.nn.modules.activation.ReLU'>\n",
      "8 <class 'torch.nn.modules.linear.Linear'>\n"
     ]
    }
   ],
   "source": [
    "for i, module in enumerate(model.modules()):\n",
    "    print(i, type(module))"
   ]
  },
  {
   "cell_type": "code",
   "execution_count": 14,
   "metadata": {},
   "outputs": [
    {
     "data": {
      "text/plain": [
       "<bound method Module.modules of SimpleCNN(\n",
       "  (layers): Sequential(\n",
       "    (0): Conv2d(1, 32, kernel_size=(3, 3), stride=(1, 1), padding=valid)\n",
       "    (1): ReLU()\n",
       "    (2): MaxPool2d(kernel_size=2, stride=2, padding=0, dilation=1, ceil_mode=False)\n",
       "    (3): Flatten(start_dim=1, end_dim=-1)\n",
       "    (4): Linear(in_features=5408, out_features=128, bias=True)\n",
       "    (5): ReLU()\n",
       "    (6): Linear(in_features=128, out_features=10, bias=True)\n",
       "  )\n",
       ")>"
      ]
     },
     "execution_count": 14,
     "metadata": {},
     "output_type": "execute_result"
    }
   ],
   "source": [
    "model.modules"
   ]
  },
  {
   "cell_type": "code",
   "execution_count": 13,
   "metadata": {},
   "outputs": [
    {
     "data": {
      "image/png": "[encoded data removed]",
      "text/plain": [
       "<Figure size 640x480 with 32 Axes>"
      ]
     },
     "metadata": {},
     "output_type": "display_data"
    }
   ],
   "source": [
    "weights = [module for module in model.modules()][2].weight.data.numpy()\n",
    "\n",
    "for i in range(weights.shape[0]):\n",
    "    plt.subplot(4, 8, i+1)\n",
    "    c = weights[i][0]\n",
    "    c = c - np.min(c)\n",
    "    c = c / np.max(c)\n",
    "    plt.imshow(c, cmap='gray', interpolation='nearest')\n",
    "    plt.axis('off')\n"
   ]
  },
  {
   "cell_type": "markdown",
   "metadata": {},
   "source": [
    "## Task 1: A more complex CNN model\n",
    "\n",
    "Your task is to try the same problem as above, but with two convolutional layers. The new model should have the following layers in order:\n",
    "\n",
    "- Convolutional (`Conv2d`) layer with 32 units and 3x3 kernels, valid padding + ReLU activation\n",
    "- Another identical convolutional layer + ReLU activation\n",
    "- Max pooling (`MaxPool2d`) layer with 2x2 pooling size\n",
    "- Dropout with 0.25 rate\n",
    "- Flatten\n",
    "- Dense layer with 128 units\n",
    "- Dropout with 0.5 rate\n",
    "- Dense output layer with 10 units\n",
    "\n",
    "You can consult the [PyTorch documentation](https://pytorch.org/docs/stable/index.html), in particular all the [neural network building blocks can be found in the `torch.nn` documentation](https://pytorch.org/docs/stable/nn.html).\n",
    "\n",
    "The code below is missing the model definition. You can copy any suitable layers from the example above."
   ]
  },
  {
   "cell_type": "code",
   "execution_count": null,
   "metadata": {},
   "outputs": [],
   "source": [
    "class SimpleCNN(nn.Module):\n",
    "    def __init__(self):\n",
    "        super().__init__()\n",
    "        self.layers = nn.Sequential(\n",
    "            nn.Conv2d(1, 32, kernel_size=3, padding='valid'),\n",
    "            nn.ReLU(),\n",
    "            nn.MaxPool2d(kernel_size=2),\n",
    "            nn.Flatten(),\n",
    "            nn.Linear(32*13*13, 128),\n",
    "            nn.ReLU(),\n",
    "            nn.Linear(128, 10)\n",
    "        )\n",
    "\n",
    "    def forward(self, x):\n",
    "        return self.layers(x)\n",
    "\n",
    "model = SimpleCNN().to(device)\n",
    "print(model)"
   ]
  },
  {
   "cell_type": "code",
   "execution_count": 43,
   "metadata": {},
   "outputs": [],
   "source": [
    "class ComplexCNN(nn.Module):\n",
    "    def __init__(self):\n",
    "        super().__init__()\n",
    "        self.layers = nn.Sequential(\n",
    "           # TASK 1: ADD LAYERS HERE\n",
    "            nn.Conv2d(1, 32, kernel_size=3, padding='valid'),\n",
    "            nn.ReLU(),\n",
    "            nn.Conv2d(32, 32, kernel_size=3, padding='valid'),\n",
    "            nn.ReLU(),\n",
    "            nn.MaxPool2d(kernel_size=2),\n",
    "            nn.Dropout(0.25),\n",
    "            nn.Flatten(),\n",
    "            nn.Linear(32*12*12, 128),\n",
    "            nn.Dropout(0.5),\n",
    "            nn.Linear(128, 10)\n",
    "        )\n",
    "\n",
    "    def forward(self, x):\n",
    "        return self.layers(x)\n"
   ]
  },
  {
   "cell_type": "markdown",
   "metadata": {},
   "source": [
    "If you want to see an example answer, change the type of the cell below to \"Code\" in the menu bar above and then execute the cell. Execute the cell again to run the example code.\n",
    "\n",
    "**Note:** in Google Colab you can [click here](https://github.com/csc-training/intro-to-dl/blob/master/day1/solutions/pytorch-mnist-cnn-example-answer.py) and copy the answer manually."
   ]
  },
  {
   "cell_type": "raw",
   "metadata": {},
   "source": [
    "%load solutions/pytorch-mnist-cnn-example-answer.py"
   ]
  },
  {
   "cell_type": "code",
   "execution_count": 42,
   "metadata": {},
   "outputs": [
    {
     "name": "stdout",
     "output_type": "stream",
     "text": [
      "ComplexCNN(\n",
      "  (layers): Sequential(\n",
      "    (0): Conv2d(1, 32, kernel_size=(3, 3), stride=(1, 1), padding=valid)\n",
      "    (1): ReLU()\n",
      "    (2): Conv2d(32, 32, kernel_size=(3, 3), stride=(1, 1), padding=valid)\n",
      "    (3): ReLU()\n",
      "    (4): MaxPool2d(kernel_size=2, stride=2, padding=0, dilation=1, ceil_mode=False)\n",
      "    (5): Dropout(p=0.25, inplace=False)\n",
      "    (6): Flatten(start_dim=1, end_dim=-1)\n",
      "    (7): Linear(in_features=4608, out_features=128, bias=True)\n",
      "    (8): Dropout(p=0.5, inplace=False)\n",
      "    (9): Linear(in_features=128, out_features=10, bias=True)\n",
      "  )\n",
      ")\n"
     ]
    }
   ],
   "source": [
    "ex1_model = ComplexCNN()\n",
    "print(ex1_model)\n",
    "\n",
    "assert len(ex1_model.layers) > 0, \"ERROR: You need to write the missing model definition above!\"\n",
    "ex1_model = ex1_model.to(device)"
   ]
  },
  {
   "cell_type": "code",
   "execution_count": 22,
   "metadata": {},
   "outputs": [],
   "source": [
    "ex1_criterion = nn.CrossEntropyLoss()\n",
    "ex1_optimizer = torch.optim.Adam(ex1_model.parameters())"
   ]
  },
  {
   "cell_type": "code",
   "execution_count": 29,
   "metadata": {},
   "outputs": [
    {
     "name": "stdout",
     "output_type": "stream",
     "text": [
      "Epoch: 1 ...\n"
     ]
    },
    {
     "name": "stderr",
     "output_type": "stream",
     "text": [
      "100%|██████████| 1875/1875 [00:16<00:00, 110.69it/s]\n"
     ]
    },
    {
     "name": "stdout",
     "output_type": "stream",
     "text": [
      "Average loss: 2.307325, accuracy: 8.73%\n",
      "Epoch: 2 ...\n"
     ]
    },
    {
     "name": "stderr",
     "output_type": "stream",
     "text": [
      "100%|██████████| 1875/1875 [00:15<00:00, 118.67it/s]\n"
     ]
    },
    {
     "name": "stdout",
     "output_type": "stream",
     "text": [
      "Average loss: 2.307347, accuracy: 8.84%\n",
      "Epoch: 3 ...\n"
     ]
    },
    {
     "name": "stderr",
     "output_type": "stream",
     "text": [
      "100%|██████████| 1875/1875 [00:15<00:00, 120.08it/s]\n"
     ]
    },
    {
     "name": "stdout",
     "output_type": "stream",
     "text": [
      "Average loss: 2.307735, accuracy: 8.73%\n",
      "Epoch: 4 ...\n"
     ]
    },
    {
     "name": "stderr",
     "output_type": "stream",
     "text": [
      "100%|██████████| 1875/1875 [00:15<00:00, 120.24it/s]\n"
     ]
    },
    {
     "name": "stdout",
     "output_type": "stream",
     "text": [
      "Average loss: 2.307775, accuracy: 8.67%\n",
      "Epoch: 5 ...\n"
     ]
    },
    {
     "name": "stderr",
     "output_type": "stream",
     "text": [
      "100%|██████████| 1875/1875 [00:16<00:00, 117.04it/s]"
     ]
    },
    {
     "name": "stdout",
     "output_type": "stream",
     "text": [
      "Average loss: 2.307807, accuracy: 8.57%\n",
      "CPU times: user 26min 36s, sys: 916 ms, total: 26min 37s\n",
      "Wall time: 1min 20s\n"
     ]
    },
    {
     "name": "stderr",
     "output_type": "stream",
     "text": [
      "\n"
     ]
    }
   ],
   "source": [
    "%%time\n",
    "\n",
    "losses = []\n",
    "accuracies = []\n",
    "epochs = 5\n",
    "for epoch in range(epochs):\n",
    "    print(f\"Epoch: {epoch+1} ...\")\n",
    "    loss, acc = train(train_loader, ex1_model, ex1_criterion, ex1_optimizer)\n",
    "    losses.append(loss)\n",
    "    accuracies.append(acc)"
   ]
  },
  {
   "cell_type": "code",
   "execution_count": 30,
   "metadata": {},
   "outputs": [
    {
     "data": {
      "image/png": "[encoded data removed]",
      "text/plain": [
       "<Figure size 640x480 with 2 Axes>"
      ]
     },
     "metadata": {},
     "output_type": "display_data"
    }
   ],
   "source": [
    "plt.subplot(2,1,1)\n",
    "plt.plot(losses)\n",
    "plt.ylabel(\"Loss\")\n",
    "plt.subplot(2,1,2)\n",
    "plt.plot(accuracies)\n",
    "plt.ylabel(\"Accuracy\");"
   ]
  },
  {
   "cell_type": "code",
   "execution_count": 31,
   "metadata": {},
   "outputs": [
    {
     "name": "stdout",
     "output_type": "stream",
     "text": [
      "Testset accuracy: 6.1%, average loss: 2.306752\n"
     ]
    }
   ],
   "source": [
    "test(test_loader, ex1_model, ex1_criterion)"
   ]
  },
  {
   "cell_type": "markdown",
   "metadata": {},
   "source": [
    "## Task 2: Tune training parameters\n",
    "\n",
    "Try to improve the classification accuracy, in particular by trying different optimizers and playing with the parameters of the training process.\n",
    "\n",
    "See optimizers available in PyTorch here: <https://pytorch.org/docs/stable/optim.html#algorithms>\n",
    "\n",
    "You can take the model created in Task 1 as a starting point. Below is a code example which you can modify."
   ]
  },
  {
   "cell_type": "markdown",
   "metadata": {},
   "source": [
    "If you wish to change the batch size, you need to re-define the data loaders."
   ]
  },
  {
   "cell_type": "code",
   "execution_count": 36,
   "metadata": {},
   "outputs": [],
   "source": [
    "batch_size = 16\n",
    "\n",
    "train_loader = DataLoader(dataset=train_dataset, batch_size=batch_size, shuffle=True)\n",
    "test_loader = DataLoader(dataset=test_dataset, batch_size=batch_size, shuffle=False)"
   ]
  },
  {
   "cell_type": "code",
   "execution_count": 44,
   "metadata": {},
   "outputs": [
    {
     "name": "stdout",
     "output_type": "stream",
     "text": [
      "Epoch: 1 ...\n"
     ]
    },
    {
     "name": "stderr",
     "output_type": "stream",
     "text": [
      "100%|██████████| 3750/3750 [00:24<00:00, 153.74it/s]\n"
     ]
    },
    {
     "name": "stdout",
     "output_type": "stream",
     "text": [
      "Average loss: 0.167358, accuracy: 94.89%\n",
      "Epoch: 2 ...\n"
     ]
    },
    {
     "name": "stderr",
     "output_type": "stream",
     "text": [
      "100%|██████████| 3750/3750 [00:24<00:00, 155.03it/s]\n"
     ]
    },
    {
     "name": "stdout",
     "output_type": "stream",
     "text": [
      "Average loss: 0.081752, accuracy: 97.52%\n",
      "Epoch: 3 ...\n"
     ]
    },
    {
     "name": "stderr",
     "output_type": "stream",
     "text": [
      "100%|██████████| 3750/3750 [00:24<00:00, 155.61it/s]\n"
     ]
    },
    {
     "name": "stdout",
     "output_type": "stream",
     "text": [
      "Average loss: 0.064887, accuracy: 98.00%\n",
      "Epoch: 4 ...\n"
     ]
    },
    {
     "name": "stderr",
     "output_type": "stream",
     "text": [
      "100%|██████████| 3750/3750 [00:24<00:00, 156.16it/s]\n"
     ]
    },
    {
     "name": "stdout",
     "output_type": "stream",
     "text": [
      "Average loss: 0.054651, accuracy: 98.29%\n",
      "Epoch: 5 ...\n"
     ]
    },
    {
     "name": "stderr",
     "output_type": "stream",
     "text": [
      "100%|██████████| 3750/3750 [00:23<00:00, 156.79it/s]\n"
     ]
    },
    {
     "name": "stdout",
     "output_type": "stream",
     "text": [
      "Average loss: 0.048754, accuracy: 98.48%\n",
      "Epoch: 6 ...\n"
     ]
    },
    {
     "name": "stderr",
     "output_type": "stream",
     "text": [
      "100%|██████████| 3750/3750 [00:24<00:00, 155.51it/s]\n"
     ]
    },
    {
     "name": "stdout",
     "output_type": "stream",
     "text": [
      "Average loss: 0.043432, accuracy: 98.66%\n",
      "Epoch: 7 ...\n"
     ]
    },
    {
     "name": "stderr",
     "output_type": "stream",
     "text": [
      "100%|██████████| 3750/3750 [00:24<00:00, 155.57it/s]\n"
     ]
    },
    {
     "name": "stdout",
     "output_type": "stream",
     "text": [
      "Average loss: 0.040575, accuracy: 98.74%\n",
      "Epoch: 8 ...\n"
     ]
    },
    {
     "name": "stderr",
     "output_type": "stream",
     "text": [
      "100%|██████████| 3750/3750 [00:24<00:00, 154.33it/s]\n"
     ]
    },
    {
     "name": "stdout",
     "output_type": "stream",
     "text": [
      "Average loss: 0.039604, accuracy: 98.72%\n",
      "Epoch: 9 ...\n"
     ]
    },
    {
     "name": "stderr",
     "output_type": "stream",
     "text": [
      "100%|██████████| 3750/3750 [00:24<00:00, 153.69it/s]\n"
     ]
    },
    {
     "name": "stdout",
     "output_type": "stream",
     "text": [
      "Average loss: 0.035503, accuracy: 98.84%\n",
      "Epoch: 10 ...\n"
     ]
    },
    {
     "name": "stderr",
     "output_type": "stream",
     "text": [
      "100%|██████████| 3750/3750 [00:24<00:00, 153.35it/s]\n"
     ]
    },
    {
     "name": "stdout",
     "output_type": "stream",
     "text": [
      "Average loss: 0.033504, accuracy: 98.98%\n",
      "Epoch: 11 ...\n"
     ]
    },
    {
     "name": "stderr",
     "output_type": "stream",
     "text": [
      "100%|██████████| 3750/3750 [00:24<00:00, 153.46it/s]\n"
     ]
    },
    {
     "name": "stdout",
     "output_type": "stream",
     "text": [
      "Average loss: 0.033609, accuracy: 98.94%\n",
      "Epoch: 12 ...\n"
     ]
    },
    {
     "name": "stderr",
     "output_type": "stream",
     "text": [
      "100%|██████████| 3750/3750 [00:25<00:00, 149.64it/s]\n"
     ]
    },
    {
     "name": "stdout",
     "output_type": "stream",
     "text": [
      "Average loss: 0.031334, accuracy: 98.95%\n",
      "Epoch: 13 ...\n"
     ]
    },
    {
     "name": "stderr",
     "output_type": "stream",
     "text": [
      "100%|██████████| 3750/3750 [00:24<00:00, 153.26it/s]\n"
     ]
    },
    {
     "name": "stdout",
     "output_type": "stream",
     "text": [
      "Average loss: 0.030863, accuracy: 99.00%\n",
      "Epoch: 14 ...\n"
     ]
    },
    {
     "name": "stderr",
     "output_type": "stream",
     "text": [
      "100%|██████████| 3750/3750 [00:24<00:00, 153.28it/s]\n"
     ]
    },
    {
     "name": "stdout",
     "output_type": "stream",
     "text": [
      "Average loss: 0.029335, accuracy: 99.06%\n",
      "Epoch: 15 ...\n"
     ]
    },
    {
     "name": "stderr",
     "output_type": "stream",
     "text": [
      "100%|██████████| 3750/3750 [00:24<00:00, 153.16it/s]"
     ]
    },
    {
     "name": "stdout",
     "output_type": "stream",
     "text": [
      "Average loss: 0.029416, accuracy: 99.07%\n"
     ]
    },
    {
     "name": "stderr",
     "output_type": "stream",
     "text": [
      "\n"
     ]
    }
   ],
   "source": [
    "#import torch.optim.lr_scheduler as lr_scheduler\n",
    "\n",
    "ex2_model = ComplexCNN().to(device)\n",
    "\n",
    "ex2_criterion = nn.CrossEntropyLoss()\n",
    "ex2_optimizer = torch.optim.Adam(ex2_model.parameters())\n",
    "\n",
    "#lr=0.001, betas=(0.9, 0.999), eps=1e-08, weight_decay=0\n",
    "#ex2_scheduler = lr_scheduler.StepLR(ex2_optimizer, step_size=3, gamma=0.5)\n",
    "\n",
    "epochs = 10\n",
    "for epoch in range(epochs):\n",
    "    print(f\"Epoch: {epoch+1} ...\")\n",
    "    train(train_loader, ex2_model, ex2_criterion, ex2_optimizer)"
   ]
  },
  {
   "cell_type": "code",
   "execution_count": 45,
   "metadata": {},
   "outputs": [
    {
     "name": "stdout",
     "output_type": "stream",
     "text": [
      "Testset accuracy: 99.1%, average loss: 0.034767\n"
     ]
    }
   ],
   "source": [
    "test(test_loader, ex2_model, ex2_criterion)"
   ]
  },
  {
   "cell_type": "markdown",
   "metadata": {},
   "source": [
    "## Extra: View model summary\n",
    "\n",
    "One way to view more information about the model is to use an external package such as [Torchinfo](https://github.com/TylerYep/torchinfo). It is not installed in the standard Pytorch module in LUMI, so you need to install it using pip:"
   ]
  },
  {
   "cell_type": "code",
   "execution_count": 49,
   "metadata": {},
   "outputs": [
    {
     "name": "stdout",
     "output_type": "stream",
     "text": [
      "Defaulting to user installation because normal site-packages is not writeable\n",
      "Requirement already satisfied: torchinfo in /pfs/lustrep3/users/muhafifa/.local/lib/python3.10/site-packages (1.8.0)\n",
      "\n",
      "\u001b[1m[\u001b[0m\u001b[34;49mnotice\u001b[0m\u001b[1;39;49m]\u001b[0m\u001b[39;49m A new release of pip is available: \u001b[0m\u001b[31;49m24.2\u001b[0m\u001b[39;49m -> \u001b[0m\u001b[32;49m24.3.1\u001b[0m\n",
      "\u001b[1m[\u001b[0m\u001b[34;49mnotice\u001b[0m\u001b[1;39;49m]\u001b[0m\u001b[39;49m To update, run: \u001b[0m\u001b[32;49mpython3 -m pip install --upgrade pip\u001b[0m\n"
     ]
    }
   ],
   "source": [
    "!pip install torchinfo"
   ]
  },
  {
   "cell_type": "code",
   "execution_count": 50,
   "metadata": {},
   "outputs": [
    {
     "ename": "ModuleNotFoundError",
     "evalue": "No module named 'torchinfo'",
     "output_type": "error",
     "traceback": [
      "\u001b[0;31m---------------------------------------------------------------------------\u001b[0m",
      "\u001b[0;31mModuleNotFoundError\u001b[0m                       Traceback (most recent call last)",
      "Cell \u001b[0;32mIn[50], line 1\u001b[0m\n\u001b[0;32m----> 1\u001b[0m \u001b[38;5;28;01mfrom\u001b[39;00m \u001b[38;5;21;01mtorchinfo\u001b[39;00m \u001b[38;5;28;01mimport\u001b[39;00m summary\n",
      "\u001b[0;31mModuleNotFoundError\u001b[0m: No module named 'torchinfo'"
     ]
    }
   ],
   "source": [
    "from torchinfo import summary"
   ]
  },
  {
   "cell_type": "code",
   "execution_count": 17,
   "metadata": {},
   "outputs": [
    {
     "ename": "NameError",
     "evalue": "name 'summary' is not defined",
     "output_type": "error",
     "traceback": [
      "\u001b[0;31m---------------------------------------------------------------------------\u001b[0m",
      "\u001b[0;31mNameError\u001b[0m                                 Traceback (most recent call last)",
      "Cell \u001b[0;32mIn[17], line 1\u001b[0m\n\u001b[0;32m----> 1\u001b[0m \u001b[43msummary\u001b[49m(model, input_size\u001b[38;5;241m=\u001b[39m(batch_size, \u001b[38;5;241m1\u001b[39m, \u001b[38;5;241m28\u001b[39m, \u001b[38;5;241m28\u001b[39m), \n\u001b[1;32m      2\u001b[0m         col_names\u001b[38;5;241m=\u001b[39m[\u001b[38;5;124m\"\u001b[39m\u001b[38;5;124minput_size\u001b[39m\u001b[38;5;124m\"\u001b[39m, \u001b[38;5;124m\"\u001b[39m\u001b[38;5;124moutput_size\u001b[39m\u001b[38;5;124m\"\u001b[39m, \u001b[38;5;124m\"\u001b[39m\u001b[38;5;124mkernel_size\u001b[39m\u001b[38;5;124m\"\u001b[39m, \u001b[38;5;124m\"\u001b[39m\u001b[38;5;124mnum_params\u001b[39m\u001b[38;5;124m\"\u001b[39m])\n",
      "\u001b[0;31mNameError\u001b[0m: name 'summary' is not defined"
     ]
    }
   ],
   "source": [
    "summary(model, input_size=(batch_size, 1, 28, 28), \n",
    "        col_names=[\"input_size\", \"output_size\", \"kernel_size\", \"num_params\"])"
   ]
  }
 ],
 "metadata": {
  "kernelspec": {
   "display_name": "ml-zoomcamp",
   "language": "python",
   "name": "ml-zoomcamp"
  },
  "language_info": {
   "codemirror_mode": {
    "name": "ipython",
    "version": 3
   },
   "file_extension": ".py",
   "mimetype": "text/x-python",
   "name": "python",
   "nbconvert_exporter": "python",
   "pygments_lexer": "ipython3",
   "version": "3.11.10"
  }
 },
 "nbformat": 4,
 "nbformat_minor": 4
}
